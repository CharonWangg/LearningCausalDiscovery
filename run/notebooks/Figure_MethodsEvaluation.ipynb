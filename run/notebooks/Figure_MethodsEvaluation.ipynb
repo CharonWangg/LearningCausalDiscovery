{
 "cells": [
  {
   "cell_type": "code",
   "execution_count": 37,
   "metadata": {
    "execution": {
     "iopub.execute_input": "2022-10-13T02:26:16.127584Z",
     "iopub.status.busy": "2022-10-13T02:26:16.127002Z",
     "iopub.status.idle": "2022-10-13T02:26:16.312147Z",
     "shell.execute_reply": "2022-10-13T02:26:16.311483Z",
     "shell.execute_reply.started": "2022-10-13T02:26:16.127561Z"
    },
    "pycharm": {
     "name": "#%%\n"
    },
    "tags": []
   },
   "outputs": [],
   "source": [
    "import numpy as np\n",
    "import torch\n",
    "import pickle\n",
    "from tqdm.notebook import tqdm\n",
    "import matplotlib.pyplot as plt\n",
    "from torchmetrics.functional import auroc, average_precision\n",
    "from sklearn.metrics import roc_auc_score, average_precision_score\n",
    "\n",
    "import os\n",
    "import re\n",
    "import sys\n",
    "plt.style.use('bmh')\n",
    "plt.rcParams['svg.fonttype'] = 'none'\n",
    "os.chdir('/project/lcd_v2')\n",
    "\n",
    "from run.tools.cli.infer import prepare_inference"
   ]
  },
  {
   "cell_type": "code",
   "execution_count": 38,
   "metadata": {
    "collapsed": false,
    "execution": {
     "iopub.execute_input": "2022-10-13T02:26:16.705625Z",
     "iopub.status.busy": "2022-10-13T02:26:16.704821Z",
     "iopub.status.idle": "2022-10-13T02:26:16.708666Z",
     "shell.execute_reply": "2022-10-13T02:26:16.708092Z",
     "shell.execute_reply.started": "2022-10-13T02:26:16.705599Z"
    },
    "jupyter": {
     "outputs_hidden": false
    },
    "pycharm": {
     "name": "#%%\n"
    },
    "tags": []
   },
   "outputs": [],
   "source": [
    "# root directory of model checkpoint and config files\n",
    "work_dir = 'work_dir'"
   ]
  },
  {
   "cell_type": "code",
   "execution_count": 39,
   "metadata": {
    "collapsed": false,
    "execution": {
     "iopub.execute_input": "2022-10-13T02:26:16.917043Z",
     "iopub.status.busy": "2022-10-13T02:26:16.916463Z",
     "iopub.status.idle": "2022-10-13T02:26:16.923868Z",
     "shell.execute_reply": "2022-10-13T02:26:16.923140Z",
     "shell.execute_reply.started": "2022-10-13T02:26:16.917021Z"
    },
    "jupyter": {
     "outputs_hidden": false
    },
    "pycharm": {
     "name": "#%%\n"
    },
    "tags": []
   },
   "outputs": [],
   "source": [
    "import os\n",
    "\n",
    "def search_cfg_ckpt(target_dir, keyword=None, screen=None, target_suffix=[\"ckpt\", \"py\"]):\n",
    "    # search files by given keywords and suffix, and screened keywords under target directory\n",
    "    find_res = []\n",
    "    target_suffix_dot = [\".\" + suffix for suffix in target_suffix]\n",
    "    walk_generator = os.walk(target_dir)\n",
    "    for root_path, dirs, files in walk_generator:\n",
    "        if len(files) < 1:\n",
    "            continue\n",
    "        for file in files:\n",
    "            file_name, suffix_name = os.path.splitext(file)\n",
    "            if suffix_name in target_suffix_dot:\n",
    "                file_name = os.path.join(root_path, file)\n",
    "                # keyword check\n",
    "                if keyword is not None:\n",
    "                    _check = 0\n",
    "                    for word in keyword:\n",
    "                        if word in file_name:\n",
    "                            _check += 1\n",
    "                    if screen is not None:\n",
    "                        for screen_word in screen:\n",
    "                                if screen_word in file_name:\n",
    "                                    _check -= 1\n",
    "                    if _check == len(keyword):\n",
    "                            find_res.append(file_name)\n",
    "                else:\n",
    "                    find_res.append(file_name)\n",
    "    return find_res\n",
    "\n",
    "def cfg_ckpt2dict(files):\n",
    "    # convert config list and ckpt list in to dict {cfg: ckpt}\n",
    "    cfgs = [cfg for cfg in files if '.py' in cfg]\n",
    "    ckpts = [ckpt for ckpt in files if '.ckpt' in ckpt]\n",
    "    dict = {}\n",
    "    for cfg in cfgs:\n",
    "        root = cfg.split('/')[-2]\n",
    "        for i, ckpt in enumerate(ckpts):\n",
    "            if ckpt.split('/')[-3] == root:\n",
    "                dict[cfg] = ckpt\n",
    "                break\n",
    "        try:\n",
    "            del ckpts[i]\n",
    "        except:\n",
    "            pass\n",
    "        \n",
    "    return dict"
   ]
  },
  {
   "cell_type": "code",
   "execution_count": 42,
   "metadata": {
    "collapsed": false,
    "execution": {
     "iopub.execute_input": "2022-10-10T05:00:03.769135Z",
     "iopub.status.busy": "2022-10-10T05:00:03.768566Z",
     "iopub.status.idle": "2022-10-10T05:00:04.191962Z",
     "shell.execute_reply": "2022-10-10T05:00:04.190998Z",
     "shell.execute_reply.started": "2022-10-10T05:00:03.769114Z"
    },
    "jupyter": {
     "outputs_hidden": false
    },
    "pycharm": {
     "name": "#%%\n"
    },
    "tags": []
   },
   "outputs": [],
   "source": [
    "# helper functions\n",
    "# plotting\n",
    "games = ['DonkeyKong', 'Pitfall', 'SpaceInvaders']\n",
    "methods = [\"corr_score\", \"mi_score\", \"gc_score\", \"lingam_score\",\"LSTM_score\", \"TCN_score\", \"Transformer_score\"]\n",
    "label = [\"Pearson Correlation\", \"Mutual Information\", \"Linear Granger Causality\", \"ICA-LiNGAM\", \"LSTM\", \"TCN\", \"Transformer\"]\n",
    "cls = [218, 240, 178, 146, 212, 185, 62, 179, 195, 91, 191, 192 ,30, 128, 184, 36, 65, 154, 10, 31, 93]\n",
    "\n",
    "def digits2color(digits):\n",
    "    d_group = [digits[i:i+3] for i in range(0, len(digits), 3)]\n",
    "    colors = [tuple((np.array(d)/255).tolist()) for d in d_group]\n",
    "    return colors\n",
    "\n",
    "cls = digits2color(cls)\n",
    "cls = cls*4\n",
    "\n",
    "def plot_regular_results(res, conditions, error_bar=False, plot_kwargs={}, save_dir=None):\n",
    "\n",
    "    if error_bar:\n",
    "        seeded_res = [[res[c][g][j][seed] for seed in res[c][g][j]] for c in conditions for g in res[c] for j in methods]\n",
    "        # (mean, std)\n",
    "        seeded_res = [(np.mean(seeds), np.std(seeds)) for seeds in seeded_res]\n",
    "    fig, ax1 = plt.subplots(figsize=(9, 7), constrained_layout=True, dpi=300)\n",
    "\n",
    "    title = plot_kwargs.get('title', f'Methods Comparison on DonkeyKong\\n')\n",
    "    ax1.set_title(title, fontdict={'family': 'Serif', 'size': 14})\n",
    "    ax1.set_xlabel(\n",
    "        'AUROC', fontdict={'family': 'Serif', 'size': 14})\n",
    "\n",
    "    # bars combo\n",
    "    width = plot_kwargs.get('width', 0.35)\n",
    "    interval = plot_kwargs.get('interval', 4)\n",
    "    total = len(conditions) * interval\n",
    "    y_labels = plot_kwargs.get('y_labels', [])\n",
    "    bar_height = plot_kwargs.get('bar_height', 0.35)\n",
    "\n",
    "    # go through the scores of different level of augmentation\n",
    "    x = [np.linspace(i-3*width, i+3*width, len(methods)) for i in range(0,total,interval)]\n",
    "    x = np.concatenate(x).reshape(-1)\n",
    "\n",
    "    if error_bar:\n",
    "        y = [res[c][g][j] for c in conditions for g in res[c] for j in methods]\n",
    "    else:\n",
    "        y = [value for c in conditions for g in res[c] for j in methods for seed, value in res[c][g][j].items()]\n",
    "\n",
    "    for i in range(len(methods)):\n",
    "        if error_bar:\n",
    "            mean, std = [s[0] for s in seeded_res], [s[1] for s in seeded_res]\n",
    "            p = ax1.barh(x[i::len(methods)], mean[i::len(methods)], xerr=std[i::len(methods)],\n",
    "                     color=cls[i], align='center', height=bar_height, label=label[i],\n",
    "                     error_kw={'linewidth': 2, 'capsize': 6})\n",
    "            ax1.bar_label(p, fmt='%.3f', fontfamily='Serif', fontsize=14)\n",
    "        else:\n",
    "            ax1.barh(x[i::len(methods)], y[i::len(methods)], color=cls[i], align='center', height=bar_height, label=label[i])\n",
    "\n",
    "    ax1.set_xlim([0.4, 1])\n",
    "    ax1.set_xticks(np.linspace(0.4, 0.9, 6))\n",
    "    ax1.xaxis.grid(True, linestyle='--', which='major',\n",
    "                   color='grey', alpha=.25)\n",
    "    ax1.axvline(0.5, color='#6e9ece', alpha=0.25)  # median position\n",
    "    ax1.set_yticks(x) if not y_labels else ax1.set_yticks(range(0, total, interval))\n",
    "    ax1.set_yticklabels(labels=y_labels, fontdict={'family': 'Serif', 'size': 14})\n",
    "    ax1.legend(loc='lower right', prop={'family': 'Serif', 'size': 14},)\n",
    "    if save_dir is not None:\n",
    "        plt.savefig(f\"{save_dir}.svg\")\n",
    "\n",
    "def collect_inferences(file_cfg=dict(), target_dir='.cache/sim_data/mos_auc_result'):\n",
    "    # get result from traditional method\n",
    "    # file name format: game={game}-method={method}-seed={seed}-note={note}.pkl\n",
    "    game = file_cfg.get('game', ['DonkeyKong'])\n",
    "    method = file_cfg.get('method', ['corr', 'mi', 'gc', 'lingam'])\n",
    "    seed = file_cfg.get('seed', [42])\n",
    "    note = file_cfg.get('note', ['default'])\n",
    "    result = {}\n",
    "\n",
    "    for _note in note:\n",
    "        result[_note] = {}\n",
    "        for _game in game:\n",
    "            result[_note][_game] = {}\n",
    "            for _method in method:\n",
    "                result[_note][_game][f'{_method}_score'] = {'auroc': {}, 'auprc': {}}\n",
    "                for _seed in seed:\n",
    "                    file_name = os.path.join(target_dir, f'game={_game}-method={_method}-seed={_seed}-note={_note}.pkl')\n",
    "                    file = pickle.load(open(file_name, 'rb'))\n",
    "                    if _method in ['mi', 'lingam', 'gc']:\n",
    "                        # directly calculate AUC (coeff, adjacency matrices)\n",
    "                        result[_note][_game][f'{_method}_score']['auroc'][_seed] = roc_auc_score(np.array(file[_method]['label']), np.array(file[_method]['pred']))\n",
    "                        result[_note][_game][f'{_method}_score']['auprc'][_seed] = average_precision_score(np.array(file[_method]['label']), np.array(file[_method]['pred']))\n",
    "                    elif _method in ['corr']:\n",
    "                        # calculate on the absolute value\n",
    "                        result[_note][_game][f'{_method}_score']['auroc'][_seed] = roc_auc_score(np.array(file[_method]['label']), np.abs(np.array(file[_method]['pred'])))\n",
    "                        result[_note][_game][f'{_method}_score']['auprc'][_seed] = average_precision_score(np.array(file[_method]['label']), np.abs(np.array(file[_method]['pred'])))\n",
    "\n",
    "    return result\n",
    "\n",
    "def models_inference(di, mi):\n",
    "    mi = mi.cuda()\n",
    "    di.setup('test')\n",
    "    di.data_cfg.test_batch_size = 1024\n",
    "    dl = di.test_dataloader()\n",
    "    preds = []\n",
    "    labels = []\n",
    "    mi.eval()\n",
    "    with torch.no_grad():\n",
    "        for i, (x, y) in tqdm(enumerate(dl), total=len(dl), desc=f'{mi.hparams.model.arch.type}'):\n",
    "            pred = mi(x.cuda())\n",
    "            preds.append(pred.softmax(dim=-1)[:, 1].detach().cpu())\n",
    "            labels.append(y.detach().cpu())\n",
    "    preds = torch.cat(preds, dim=0)\n",
    "    labels = torch.cat(labels, dim=0)\n",
    "    score_auroc = auroc(preds, labels, pos_label=1)\n",
    "    score_auprc = average_precision(preds, labels, pos_label=1)\n",
    "    return score_auroc, score_auprc"
   ]
  },
  {
   "cell_type": "markdown",
   "metadata": {
    "pycharm": {
     "name": "#%% md\n"
    }
   },
   "source": [
    "### Regular Runtime"
   ]
  },
  {
   "cell_type": "code",
   "execution_count": 45,
   "outputs": [
    {
     "data": {
      "text/plain": "0it [00:00, ?it/s]",
      "application/vnd.jupyter.widget-view+json": {
       "version_major": 2,
       "version_minor": 0,
       "model_id": "9c6fbaf8d48b46a6b123911f2d698d96"
      }
     },
     "metadata": {},
     "output_type": "display_data"
    },
    {
     "name": "stderr",
     "output_type": "stream",
     "text": [
      "/usr/local/lib/python3.9/dist-packages/torchmetrics/utilities/prints.py:36: UserWarning: Metric `AveragePrecision` will save all targets and predictions in buffer. For large datasets this may lead to large memory footprint.\n",
      "  warnings.warn(*args, **kwargs)\n",
      "/usr/local/lib/python3.9/dist-packages/torchmetrics/utilities/prints.py:36: UserWarning: Metric `AUROC` will save all targets and predictions in buffer. For large datasets this may lead to large memory footprint.\n",
      "  warnings.warn(*args, **kwargs)\n"
     ]
    },
    {
     "data": {
      "text/plain": "Transformer:   0%|          | 0/52 [00:00<?, ?it/s]",
      "application/vnd.jupyter.widget-view+json": {
       "version_major": 2,
       "version_minor": 0,
       "model_id": "f824ea86d6164995ad8c64365e5f1860"
      }
     },
     "metadata": {},
     "output_type": "display_data"
    },
    {
     "data": {
      "text/plain": "Transformer:   0%|          | 0/52 [00:00<?, ?it/s]",
      "application/vnd.jupyter.widget-view+json": {
       "version_major": 2,
       "version_minor": 0,
       "model_id": "1450f28e476240078a3f698f7a83c99d"
      }
     },
     "metadata": {},
     "output_type": "display_data"
    },
    {
     "data": {
      "text/plain": "Transformer:   0%|          | 0/52 [00:00<?, ?it/s]",
      "application/vnd.jupyter.widget-view+json": {
       "version_major": 2,
       "version_minor": 0,
       "model_id": "d30755a5e02d4c8db11e92a0ba8a3a40"
      }
     },
     "metadata": {},
     "output_type": "display_data"
    },
    {
     "data": {
      "text/plain": "Transformer:   0%|          | 0/52 [00:00<?, ?it/s]",
      "application/vnd.jupyter.widget-view+json": {
       "version_major": 2,
       "version_minor": 0,
       "model_id": "2411a47326db4219aef966af7c49de5d"
      }
     },
     "metadata": {},
     "output_type": "display_data"
    },
    {
     "data": {
      "text/plain": "Transformer:   0%|          | 0/52 [00:00<?, ?it/s]",
      "application/vnd.jupyter.widget-view+json": {
       "version_major": 2,
       "version_minor": 0,
       "model_id": "aa126a6c7a924c44b2a7d0306f6b05bb"
      }
     },
     "metadata": {},
     "output_type": "display_data"
    },
    {
     "name": "stderr",
     "output_type": "stream",
     "text": [
      "/usr/local/lib/python3.9/dist-packages/torchmetrics/utilities/prints.py:36: UserWarning: Metric `AveragePrecision` will save all targets and predictions in buffer. For large datasets this may lead to large memory footprint.\n",
      "  warnings.warn(*args, **kwargs)\n",
      "/usr/local/lib/python3.9/dist-packages/torchmetrics/utilities/prints.py:36: UserWarning: Metric `AUROC` will save all targets and predictions in buffer. For large datasets this may lead to large memory footprint.\n",
      "  warnings.warn(*args, **kwargs)\n"
     ]
    },
    {
     "data": {
      "text/plain": "TCN:   0%|          | 0/52 [00:00<?, ?it/s]",
      "application/vnd.jupyter.widget-view+json": {
       "version_major": 2,
       "version_minor": 0,
       "model_id": "a265dd54238244bbb52640683909b14f"
      }
     },
     "metadata": {},
     "output_type": "display_data"
    },
    {
     "data": {
      "text/plain": "TCN:   0%|          | 0/52 [00:00<?, ?it/s]",
      "application/vnd.jupyter.widget-view+json": {
       "version_major": 2,
       "version_minor": 0,
       "model_id": "f41eb52723c647abab6e22a08e855d6e"
      }
     },
     "metadata": {},
     "output_type": "display_data"
    },
    {
     "data": {
      "text/plain": "TCN:   0%|          | 0/52 [00:00<?, ?it/s]",
      "application/vnd.jupyter.widget-view+json": {
       "version_major": 2,
       "version_minor": 0,
       "model_id": "006d5895b1fa45c1be9c6f0f4fd3b169"
      }
     },
     "metadata": {},
     "output_type": "display_data"
    },
    {
     "data": {
      "text/plain": "TCN:   0%|          | 0/52 [00:00<?, ?it/s]",
      "application/vnd.jupyter.widget-view+json": {
       "version_major": 2,
       "version_minor": 0,
       "model_id": "23bfaa3ed0f84e34a3733bf0cff5de4c"
      }
     },
     "metadata": {},
     "output_type": "display_data"
    },
    {
     "data": {
      "text/plain": "TCN:   0%|          | 0/52 [00:00<?, ?it/s]",
      "application/vnd.jupyter.widget-view+json": {
       "version_major": 2,
       "version_minor": 0,
       "model_id": "12ed52e5028d46b29c1e228ccec8ca06"
      }
     },
     "metadata": {},
     "output_type": "display_data"
    },
    {
     "name": "stderr",
     "output_type": "stream",
     "text": [
      "/usr/local/lib/python3.9/dist-packages/torchmetrics/utilities/prints.py:36: UserWarning: Metric `AveragePrecision` will save all targets and predictions in buffer. For large datasets this may lead to large memory footprint.\n",
      "  warnings.warn(*args, **kwargs)\n",
      "/usr/local/lib/python3.9/dist-packages/torchmetrics/utilities/prints.py:36: UserWarning: Metric `AUROC` will save all targets and predictions in buffer. For large datasets this may lead to large memory footprint.\n",
      "  warnings.warn(*args, **kwargs)\n"
     ]
    },
    {
     "data": {
      "text/plain": "LSTM:   0%|          | 0/52 [00:00<?, ?it/s]",
      "application/vnd.jupyter.widget-view+json": {
       "version_major": 2,
       "version_minor": 0,
       "model_id": "439744af640146318301188f8beb8e3f"
      }
     },
     "metadata": {},
     "output_type": "display_data"
    },
    {
     "data": {
      "text/plain": "LSTM:   0%|          | 0/52 [00:00<?, ?it/s]",
      "application/vnd.jupyter.widget-view+json": {
       "version_major": 2,
       "version_minor": 0,
       "model_id": "ad6198f5506b4305b407dd28144445ad"
      }
     },
     "metadata": {},
     "output_type": "display_data"
    },
    {
     "data": {
      "text/plain": "LSTM:   0%|          | 0/52 [00:00<?, ?it/s]",
      "application/vnd.jupyter.widget-view+json": {
       "version_major": 2,
       "version_minor": 0,
       "model_id": "48976373519346809ce06ba262bcc7e4"
      }
     },
     "metadata": {},
     "output_type": "display_data"
    },
    {
     "data": {
      "text/plain": "LSTM:   0%|          | 0/52 [00:00<?, ?it/s]",
      "application/vnd.jupyter.widget-view+json": {
       "version_major": 2,
       "version_minor": 0,
       "model_id": "476bb9eaa290432185c09dd63e8376f8"
      }
     },
     "metadata": {},
     "output_type": "display_data"
    },
    {
     "data": {
      "text/plain": "LSTM:   0%|          | 0/52 [00:00<?, ?it/s]",
      "application/vnd.jupyter.widget-view+json": {
       "version_major": 2,
       "version_minor": 0,
       "model_id": "8cbad3aa0b8a4fcf99a9ee4baff240dd"
      }
     },
     "metadata": {},
     "output_type": "display_data"
    }
   ],
   "source": [
    "condition = 'default'\n",
    "games = ['DonkeyKong']\n",
    "# collect inference result from traditional methods\n",
    "result = collect_inferences(file_cfg={'game': games,\n",
    "                                        'method': ['corr', 'mi', 'gc', 'lingam'],\n",
    "                                        'seed': [42, 1, 2, 3, 4],\n",
    "                                        'note': [condition]}, target_dir='.cache/sim_data/mos_auc_result')\n",
    "\n",
    "# get result from deep learning method\n",
    "mi_dicts = cfg_ckpt2dict(search_cfg_ckpt(work_dir, keyword=['mos6502']))\n",
    "# different game, different seed\n",
    "for game in games:\n",
    "    for idx, (cfg, ckpt) in tqdm(enumerate(mi_dicts.items())):\n",
    "        di, mi = prepare_inference(cfg, ckpt)\n",
    "        result[condition][game][mi.hparams.model.arch.type] = {'auroc': {}, 'auprc': {}}\n",
    "        for seed in [42, 1, 2, 3, 4]:\n",
    "            test_csv = f'.cache/sim_data/{game}/HR/window_768_1024/csv/fold_seed_{seed}/test_ds_0.01.csv'\n",
    "            test_seq = f'.cache/sim_data/{game}/HR/window_768_1024/Regular_3510_step_256_rec_400_window_768_1024.npy'\n",
    "            di.data_cfg.test.split = test_csv\n",
    "            score_auroc, score_auprc = models_inference(di, mi)\n",
    "            result[condition][game][mi.hparams.model.arch.type]['auroc'][seed] = score_auroc\n",
    "            result[condition][game][mi.hparams.model.arch.type]['auprc'][seed] = score_auprc\n",
    "\n"
   ],
   "metadata": {
    "collapsed": false,
    "pycharm": {
     "name": "#%%\n"
    }
   }
  },
  {
   "cell_type": "code",
   "execution_count": 46,
   "outputs": [
    {
     "data": {
      "text/plain": "{'default': {'DonkeyKong': {'corr_score': {'auroc': {42: 0.8721369060197981,\n     1: 0.8881261367096696,\n     2: 0.9434636178026414,\n     3: 0.8912544282797558,\n     4: 0.9350396943592576},\n    'auprc': {42: 0.0033723690015679264,\n     1: 0.003379627594574205,\n     2: 0.003867212280731389,\n     3: 0.003520683062175101,\n     4: 0.004393858820687295}},\n   'mi_score': {'auroc': {42: 0.8693913309715842,\n     1: 0.9082145941457683,\n     2: 0.9385066068519569,\n     3: 0.8554829133712833,\n     4: 0.9216021844793474},\n    'auprc': {42: 0.0032526525062583837,\n     1: 0.002978610525531383,\n     2: 0.0035026370879386384,\n     3: 0.0024092469965364743,\n     4: 0.010583426851555984}},\n   'gc_score': {'auroc': {42: 0.5687666710484935,\n     1: 0.5071738548040076,\n     2: 0.502423593974378,\n     3: 0.5783204402238392,\n     4: 0.540948171863014},\n    'auprc': {42: 0.001493875024772765,\n     1: 0.00042966676690861245,\n     2: 0.0005286549804978893,\n     3: 0.045418711822260836,\n     4: 0.00045640512232026455}},\n   'lingam_score': {'auroc': {42: 0.9032451033085012,\n     1: 0.881378678030574,\n     2: 0.9511420760208131,\n     3: 0.8228958495225196,\n     4: 0.9374179447457182},\n    'auprc': {42: 0.003198067649547274,\n     1: 0.005739287295496942,\n     2: 0.00468446877511515,\n     3: 0.003711250397026061,\n     4: 0.005431247558763153}},\n   'Transformer': {'auroc': {42: tensor(0.9433),\n     1: tensor(0.9405),\n     2: tensor(0.9838),\n     3: tensor(0.9396),\n     4: tensor(0.9690)},\n    'auprc': {42: tensor(0.0181),\n     1: tensor(0.0165),\n     2: tensor(0.0203),\n     3: tensor(0.0294),\n     4: tensor(0.0220)}},\n   'TCN': {'auroc': {42: tensor(0.9353),\n     1: tensor(0.9607),\n     2: tensor(0.9826),\n     3: tensor(0.9563),\n     4: tensor(0.9581)},\n    'auprc': {42: tensor(0.1128),\n     1: tensor(0.0929),\n     2: tensor(0.0220),\n     3: tensor(0.1664),\n     4: tensor(0.0756)}},\n   'LSTM': {'auroc': {42: tensor(0.9370),\n     1: tensor(0.9440),\n     2: tensor(0.9852),\n     3: tensor(0.9251),\n     4: tensor(0.9532)},\n    'auprc': {42: tensor(0.0219),\n     1: tensor(0.0231),\n     2: tensor(0.0246),\n     3: tensor(0.0339),\n     4: tensor(0.0282)}}}}}"
     },
     "execution_count": 46,
     "metadata": {},
     "output_type": "execute_result"
    }
   ],
   "source": [
    "result"
   ],
   "metadata": {
    "collapsed": false,
    "pycharm": {
     "name": "#%%\n"
    }
   }
  },
  {
   "cell_type": "code",
   "execution_count": 61,
   "outputs": [
    {
     "data": {
      "text/plain": "['corr_score',\n 'mi_score',\n 'gc_score',\n 'lingam_score',\n 'Transformer',\n 'TCN',\n 'LSTM']"
     },
     "execution_count": 61,
     "metadata": {},
     "output_type": "execute_result"
    }
   ],
   "source": [
    "methods"
   ],
   "metadata": {
    "collapsed": false,
    "pycharm": {
     "name": "#%%\n"
    }
   }
  },
  {
   "cell_type": "code",
   "execution_count": 63,
   "outputs": [
    {
     "data": {
      "text/plain": "<Figure size 640x480 with 1 Axes>",
      "image/png": "[encoded data removed]"
     },
     "metadata": {},
     "output_type": "display_data"
    },
    {
     "data": {
      "text/plain": "<Figure size 640x480 with 1 Axes>",
      "image/png": "[encoded data removed]"
     },
     "metadata": {},
     "output_type": "display_data"
    }
   ],
   "source": [
    "auroc_dict = {m: data[m]['auroc'] for m in methods}\n",
    "auprc_dict = {m: data[m]['auprc'] for m in methods}\n",
    "\n",
    "# get the mean and std of each method\n",
    "auroc_mean = {m: np.mean(list(auroc_dict[m].values())) for m in methods}\n",
    "auroc_std = {m: np.std(list(auroc_dict[m].values())) for m in methods}\n",
    "auprc_mean = {m: np.mean(list(auprc_dict[m].values())) for m in methods}\n",
    "auprc_std = {m: np.std(list(auprc_dict[m].values())) for m in methods}\n",
    "\n",
    "# plot the bar chart for auroc\n",
    "fig, ax = plt.subplots()\n",
    "ax.bar(methods, auroc_mean.values(), yerr=auroc_std.values(), align='center', alpha=0.5, ecolor='black', capsize=10)\n",
    "ax.set_ylabel('AUROC')\n",
    "ax.set_xticks(methods)\n",
    "ax.set_xticklabels(['corr', 'mi', 'gc', 'lingam', 'Transformer', 'TCN', 'LSTM'])\n",
    "ax.set_title('Comparison of auroc scores')\n",
    "ax.yaxis.grid(True)\n",
    "\n",
    "# plot the bar chart for auprc\n",
    "fig, ax = plt.subplots()\n",
    "ax.bar(methods, auprc_mean.values(), yerr=auprc_std.values(), align='center', alpha=0.5, ecolor='black', capsize=10)\n",
    "ax.set_ylabel('AUPRC')\n",
    "ax.set_xticks(methods)\n",
    "ax.set_xticklabels(['corr', 'mi', 'gc', 'lingam', 'Transformer', 'TCN', 'LSTM'])\n",
    "ax.set_title('Comparison of auprc scores')\n",
    "ax.yaxis.grid(True)\n",
    "\n"
   ],
   "metadata": {
    "collapsed": false,
    "pycharm": {
     "name": "#%%\n"
    }
   }
  },
  {
   "cell_type": "code",
   "execution_count": 52,
   "outputs": [
    {
     "data": {
      "text/plain": "{'auroc': {42: 0.8721369060197981,\n  1: 0.8881261367096696,\n  2: 0.9434636178026414,\n  3: 0.8912544282797558,\n  4: 0.9350396943592576},\n 'auprc': {42: 0.0033723690015679264,\n  1: 0.003379627594574205,\n  2: 0.003867212280731389,\n  3: 0.003520683062175101,\n  4: 0.004393858820687295}}"
     },
     "execution_count": 52,
     "metadata": {},
     "output_type": "execute_result"
    }
   ],
   "source": [
    "data[methods[0]]"
   ],
   "metadata": {
    "collapsed": false,
    "pycharm": {
     "name": "#%%\n"
    }
   }
  },
  {
   "cell_type": "code",
   "execution_count": 57,
   "outputs": [
    {
     "data": {
      "text/plain": "['auroc', 'auprc']"
     },
     "execution_count": 57,
     "metadata": {},
     "output_type": "execute_result"
    }
   ],
   "source": [
    "list(data[methods[0]].keys())"
   ],
   "metadata": {
    "collapsed": false,
    "pycharm": {
     "name": "#%%\n"
    }
   }
  },
  {
   "cell_type": "code",
   "execution_count": 56,
   "outputs": [
    {
     "ename": "ValueError",
     "evalue": "shape mismatch: objects cannot be broadcast to a single shape.  Mismatch is between arg 0 with shape (5,) and arg 1 with shape (7,).",
     "output_type": "error",
     "traceback": [
      "\u001B[0;31m---------------------------------------------------------------------------\u001B[0m",
      "\u001B[0;31mValueError\u001B[0m                                Traceback (most recent call last)",
      "Cell \u001B[0;32mIn[56], line 22\u001B[0m\n\u001B[1;32m     20\u001B[0m     auroc_values \u001B[38;5;241m=\u001B[39m [data[method][\u001B[38;5;124m'\u001B[39m\u001B[38;5;124mauroc\u001B[39m\u001B[38;5;124m'\u001B[39m] \u001B[38;5;28;01mfor\u001B[39;00m method \u001B[38;5;129;01min\u001B[39;00m methods]\n\u001B[1;32m     21\u001B[0m     auprc_values \u001B[38;5;241m=\u001B[39m [data[method][\u001B[38;5;124m'\u001B[39m\u001B[38;5;124mauprc\u001B[39m\u001B[38;5;124m'\u001B[39m] \u001B[38;5;28;01mfor\u001B[39;00m method \u001B[38;5;129;01min\u001B[39;00m methods]\n\u001B[0;32m---> 22\u001B[0m     \u001B[43max\u001B[49m\u001B[38;5;241;43m.\u001B[39;49m\u001B[43mbar\u001B[49m\u001B[43m(\u001B[49m\u001B[43mr1\u001B[49m\u001B[43m \u001B[49m\u001B[38;5;241;43m+\u001B[39;49m\u001B[43m \u001B[49m\u001B[43mi\u001B[49m\u001B[38;5;241;43m*\u001B[39;49m\u001B[43mbar_width\u001B[49m\u001B[43m,\u001B[49m\u001B[43m \u001B[49m\u001B[43mauroc_values\u001B[49m\u001B[43m,\u001B[49m\u001B[43m \u001B[49m\u001B[43mwidth\u001B[49m\u001B[38;5;241;43m=\u001B[39;49m\u001B[43mbar_width\u001B[49m\u001B[43m,\u001B[49m\u001B[43m \u001B[49m\u001B[43mlabel\u001B[49m\u001B[38;5;241;43m=\u001B[39;49m\u001B[43mscore\u001B[49m\u001B[43m \u001B[49m\u001B[38;5;241;43m+\u001B[39;49m\u001B[43m \u001B[49m\u001B[38;5;124;43m'\u001B[39;49m\u001B[38;5;124;43m auroc\u001B[39;49m\u001B[38;5;124;43m'\u001B[39;49m\u001B[43m)\u001B[49m\n\u001B[1;32m     23\u001B[0m     ax\u001B[38;5;241m.\u001B[39mbar(r2 \u001B[38;5;241m+\u001B[39m i\u001B[38;5;241m*\u001B[39mbar_width, auprc_values, width\u001B[38;5;241m=\u001B[39mbar_width, label\u001B[38;5;241m=\u001B[39mscore \u001B[38;5;241m+\u001B[39m \u001B[38;5;124m'\u001B[39m\u001B[38;5;124m auprc\u001B[39m\u001B[38;5;124m'\u001B[39m)\n\u001B[1;32m     25\u001B[0m \u001B[38;5;66;03m# Add some text for labels, title and custom x-axis tick labels, etc.\u001B[39;00m\n",
      "File \u001B[0;32m/usr/local/lib/python3.9/dist-packages/matplotlib/__init__.py:1423\u001B[0m, in \u001B[0;36m_preprocess_data.<locals>.inner\u001B[0;34m(ax, data, *args, **kwargs)\u001B[0m\n\u001B[1;32m   1420\u001B[0m \u001B[38;5;129m@functools\u001B[39m\u001B[38;5;241m.\u001B[39mwraps(func)\n\u001B[1;32m   1421\u001B[0m \u001B[38;5;28;01mdef\u001B[39;00m \u001B[38;5;21minner\u001B[39m(ax, \u001B[38;5;241m*\u001B[39margs, data\u001B[38;5;241m=\u001B[39m\u001B[38;5;28;01mNone\u001B[39;00m, \u001B[38;5;241m*\u001B[39m\u001B[38;5;241m*\u001B[39mkwargs):\n\u001B[1;32m   1422\u001B[0m     \u001B[38;5;28;01mif\u001B[39;00m data \u001B[38;5;129;01mis\u001B[39;00m \u001B[38;5;28;01mNone\u001B[39;00m:\n\u001B[0;32m-> 1423\u001B[0m         \u001B[38;5;28;01mreturn\u001B[39;00m \u001B[43mfunc\u001B[49m\u001B[43m(\u001B[49m\u001B[43max\u001B[49m\u001B[43m,\u001B[49m\u001B[43m \u001B[49m\u001B[38;5;241;43m*\u001B[39;49m\u001B[38;5;28;43mmap\u001B[39;49m\u001B[43m(\u001B[49m\u001B[43msanitize_sequence\u001B[49m\u001B[43m,\u001B[49m\u001B[43m \u001B[49m\u001B[43margs\u001B[49m\u001B[43m)\u001B[49m\u001B[43m,\u001B[49m\u001B[43m \u001B[49m\u001B[38;5;241;43m*\u001B[39;49m\u001B[38;5;241;43m*\u001B[39;49m\u001B[43mkwargs\u001B[49m\u001B[43m)\u001B[49m\n\u001B[1;32m   1425\u001B[0m     bound \u001B[38;5;241m=\u001B[39m new_sig\u001B[38;5;241m.\u001B[39mbind(ax, \u001B[38;5;241m*\u001B[39margs, \u001B[38;5;241m*\u001B[39m\u001B[38;5;241m*\u001B[39mkwargs)\n\u001B[1;32m   1426\u001B[0m     auto_label \u001B[38;5;241m=\u001B[39m (bound\u001B[38;5;241m.\u001B[39marguments\u001B[38;5;241m.\u001B[39mget(label_namer)\n\u001B[1;32m   1427\u001B[0m                   \u001B[38;5;129;01mor\u001B[39;00m bound\u001B[38;5;241m.\u001B[39mkwargs\u001B[38;5;241m.\u001B[39mget(label_namer))\n",
      "File \u001B[0;32m/usr/local/lib/python3.9/dist-packages/matplotlib/axes/_axes.py:2383\u001B[0m, in \u001B[0;36mAxes.bar\u001B[0;34m(self, x, height, width, bottom, align, **kwargs)\u001B[0m\n\u001B[1;32m   2380\u001B[0m     \u001B[38;5;28;01mif\u001B[39;00m yerr \u001B[38;5;129;01mis\u001B[39;00m \u001B[38;5;129;01mnot\u001B[39;00m \u001B[38;5;28;01mNone\u001B[39;00m:\n\u001B[1;32m   2381\u001B[0m         yerr \u001B[38;5;241m=\u001B[39m \u001B[38;5;28mself\u001B[39m\u001B[38;5;241m.\u001B[39m_convert_dx(yerr, y0, y, \u001B[38;5;28mself\u001B[39m\u001B[38;5;241m.\u001B[39mconvert_yunits)\n\u001B[0;32m-> 2383\u001B[0m x, height, width, y, linewidth, hatch \u001B[38;5;241m=\u001B[39m \u001B[43mnp\u001B[49m\u001B[38;5;241;43m.\u001B[39;49m\u001B[43mbroadcast_arrays\u001B[49m\u001B[43m(\u001B[49m\n\u001B[1;32m   2384\u001B[0m \u001B[43m    \u001B[49m\u001B[38;5;66;43;03m# Make args iterable too.\u001B[39;49;00m\n\u001B[1;32m   2385\u001B[0m \u001B[43m    \u001B[49m\u001B[43mnp\u001B[49m\u001B[38;5;241;43m.\u001B[39;49m\u001B[43matleast_1d\u001B[49m\u001B[43m(\u001B[49m\u001B[43mx\u001B[49m\u001B[43m)\u001B[49m\u001B[43m,\u001B[49m\u001B[43m \u001B[49m\u001B[43mheight\u001B[49m\u001B[43m,\u001B[49m\u001B[43m \u001B[49m\u001B[43mwidth\u001B[49m\u001B[43m,\u001B[49m\u001B[43m \u001B[49m\u001B[43my\u001B[49m\u001B[43m,\u001B[49m\u001B[43m \u001B[49m\u001B[43mlinewidth\u001B[49m\u001B[43m,\u001B[49m\u001B[43m \u001B[49m\u001B[43mhatch\u001B[49m\u001B[43m)\u001B[49m\n\u001B[1;32m   2387\u001B[0m \u001B[38;5;66;03m# Now that units have been converted, set the tick locations.\u001B[39;00m\n\u001B[1;32m   2388\u001B[0m \u001B[38;5;28;01mif\u001B[39;00m orientation \u001B[38;5;241m==\u001B[39m \u001B[38;5;124m'\u001B[39m\u001B[38;5;124mvertical\u001B[39m\u001B[38;5;124m'\u001B[39m:\n",
      "File \u001B[0;32m<__array_function__ internals>:180\u001B[0m, in \u001B[0;36mbroadcast_arrays\u001B[0;34m(*args, **kwargs)\u001B[0m\n",
      "File \u001B[0;32m/usr/local/lib/python3.9/dist-packages/numpy/lib/stride_tricks.py:539\u001B[0m, in \u001B[0;36mbroadcast_arrays\u001B[0;34m(subok, *args)\u001B[0m\n\u001B[1;32m    532\u001B[0m \u001B[38;5;66;03m# nditer is not used here to avoid the limit of 32 arrays.\u001B[39;00m\n\u001B[1;32m    533\u001B[0m \u001B[38;5;66;03m# Otherwise, something like the following one-liner would suffice:\u001B[39;00m\n\u001B[1;32m    534\u001B[0m \u001B[38;5;66;03m# return np.nditer(args, flags=['multi_index', 'zerosize_ok'],\u001B[39;00m\n\u001B[1;32m    535\u001B[0m \u001B[38;5;66;03m#                  order='C').itviews\u001B[39;00m\n\u001B[1;32m    537\u001B[0m args \u001B[38;5;241m=\u001B[39m [np\u001B[38;5;241m.\u001B[39marray(_m, copy\u001B[38;5;241m=\u001B[39m\u001B[38;5;28;01mFalse\u001B[39;00m, subok\u001B[38;5;241m=\u001B[39msubok) \u001B[38;5;28;01mfor\u001B[39;00m _m \u001B[38;5;129;01min\u001B[39;00m args]\n\u001B[0;32m--> 539\u001B[0m shape \u001B[38;5;241m=\u001B[39m \u001B[43m_broadcast_shape\u001B[49m\u001B[43m(\u001B[49m\u001B[38;5;241;43m*\u001B[39;49m\u001B[43margs\u001B[49m\u001B[43m)\u001B[49m\n\u001B[1;32m    541\u001B[0m \u001B[38;5;28;01mif\u001B[39;00m \u001B[38;5;28mall\u001B[39m(array\u001B[38;5;241m.\u001B[39mshape \u001B[38;5;241m==\u001B[39m shape \u001B[38;5;28;01mfor\u001B[39;00m array \u001B[38;5;129;01min\u001B[39;00m args):\n\u001B[1;32m    542\u001B[0m     \u001B[38;5;66;03m# Common case where nothing needs to be broadcasted.\u001B[39;00m\n\u001B[1;32m    543\u001B[0m     \u001B[38;5;28;01mreturn\u001B[39;00m args\n",
      "File \u001B[0;32m/usr/local/lib/python3.9/dist-packages/numpy/lib/stride_tricks.py:421\u001B[0m, in \u001B[0;36m_broadcast_shape\u001B[0;34m(*args)\u001B[0m\n\u001B[1;32m    416\u001B[0m \u001B[38;5;124;03m\"\"\"Returns the shape of the arrays that would result from broadcasting the\u001B[39;00m\n\u001B[1;32m    417\u001B[0m \u001B[38;5;124;03msupplied arrays against each other.\u001B[39;00m\n\u001B[1;32m    418\u001B[0m \u001B[38;5;124;03m\"\"\"\u001B[39;00m\n\u001B[1;32m    419\u001B[0m \u001B[38;5;66;03m# use the old-iterator because np.nditer does not handle size 0 arrays\u001B[39;00m\n\u001B[1;32m    420\u001B[0m \u001B[38;5;66;03m# consistently\u001B[39;00m\n\u001B[0;32m--> 421\u001B[0m b \u001B[38;5;241m=\u001B[39m \u001B[43mnp\u001B[49m\u001B[38;5;241;43m.\u001B[39;49m\u001B[43mbroadcast\u001B[49m\u001B[43m(\u001B[49m\u001B[38;5;241;43m*\u001B[39;49m\u001B[43margs\u001B[49m\u001B[43m[\u001B[49m\u001B[43m:\u001B[49m\u001B[38;5;241;43m32\u001B[39;49m\u001B[43m]\u001B[49m\u001B[43m)\u001B[49m\n\u001B[1;32m    422\u001B[0m \u001B[38;5;66;03m# unfortunately, it cannot handle 32 or more arguments directly\u001B[39;00m\n\u001B[1;32m    423\u001B[0m \u001B[38;5;28;01mfor\u001B[39;00m pos \u001B[38;5;129;01min\u001B[39;00m \u001B[38;5;28mrange\u001B[39m(\u001B[38;5;241m32\u001B[39m, \u001B[38;5;28mlen\u001B[39m(args), \u001B[38;5;241m31\u001B[39m):\n\u001B[1;32m    424\u001B[0m     \u001B[38;5;66;03m# ironically, np.broadcast does not properly handle np.broadcast\u001B[39;00m\n\u001B[1;32m    425\u001B[0m     \u001B[38;5;66;03m# objects (it treats them as scalars)\u001B[39;00m\n\u001B[1;32m    426\u001B[0m     \u001B[38;5;66;03m# use broadcasting to avoid allocating the full array\u001B[39;00m\n",
      "\u001B[0;31mValueError\u001B[0m: shape mismatch: objects cannot be broadcast to a single shape.  Mismatch is between arg 0 with shape (5,) and arg 1 with shape (7,)."
     ]
    },
    {
     "data": {
      "text/plain": "<Figure size 640x480 with 1 Axes>",
      "image/png": "[encoded data removed]"
     },
     "metadata": {},
     "output_type": "display_data"
    }
   ],
   "source": [
    "import numpy as np\n",
    "import matplotlib.pyplot as plt\n",
    "\n",
    "# Create some sample data\n",
    "data = result['default']['DonkeyKong']\n",
    "# Get the list of methods and scores\n",
    "methods = list(data.keys())\n",
    "scores = ['auroc', 'auprc']\n",
    "seeds = [42, 1, 2, 3, 4]\n",
    "\n",
    "# Set the width of each bar\n",
    "bar_width = 0.25\n",
    "\n",
    "# Set the position of each bar on the x-axis\n",
    "r1 = np.arange(5)\n",
    "r2 = [x + bar_width for x in r1]\n",
    "\n",
    "# Plot the bars for each score\n",
    "\n",
    "\n",
    "# Add some text for labels, title and custom x-axis tick labels, etc.\n",
    "ax.set_xlabel('Methods')\n",
    "ax.set_ylabel('Score')\n",
    "ax.set_title('Comparison of auroc and auprc scores')\n",
    "ax.set_xticks([r + bar_width for r in range(7)], methods)\n",
    "ax.legend()\n",
    "\n",
    "# Show the plot\n",
    "plt.show()\n"
   ],
   "metadata": {
    "collapsed": false,
    "pycharm": {
     "name": "#%%\n"
    }
   }
  },
  {
   "cell_type": "code",
   "execution_count": 17,
   "outputs": [
    {
     "ename": "KeyError",
     "evalue": "'auroc'",
     "output_type": "error",
     "traceback": [
      "\u001B[0;31m---------------------------------------------------------------------------\u001B[0m",
      "\u001B[0;31mKeyError\u001B[0m                                  Traceback (most recent call last)",
      "Cell \u001B[0;32mIn[17], line 6\u001B[0m\n\u001B[1;32m      3\u001B[0m \u001B[38;5;28;01mfor\u001B[39;00m game \u001B[38;5;129;01min\u001B[39;00m result[condition]\u001B[38;5;241m.\u001B[39mkeys():\n\u001B[1;32m      4\u001B[0m     \u001B[38;5;28;01mfor\u001B[39;00m method \u001B[38;5;129;01min\u001B[39;00m result[condition][game]\u001B[38;5;241m.\u001B[39mkeys():\n\u001B[1;32m      5\u001B[0m         \u001B[38;5;66;03m# auroc\u001B[39;00m\n\u001B[0;32m----> 6\u001B[0m         result[condition][game][method][\u001B[38;5;124m'\u001B[39m\u001B[38;5;124mauroc\u001B[39m\u001B[38;5;124m'\u001B[39m] \u001B[38;5;241m=\u001B[39m np\u001B[38;5;241m.\u001B[39marray(\u001B[38;5;28mlist\u001B[39m(\u001B[43mresult\u001B[49m\u001B[43m[\u001B[49m\u001B[43mcondition\u001B[49m\u001B[43m]\u001B[49m\u001B[43m[\u001B[49m\u001B[43mgame\u001B[49m\u001B[43m]\u001B[49m\u001B[43m[\u001B[49m\u001B[43mmethod\u001B[49m\u001B[43m]\u001B[49m\u001B[43m[\u001B[49m\u001B[38;5;124;43m'\u001B[39;49m\u001B[38;5;124;43mauroc\u001B[39;49m\u001B[38;5;124;43m'\u001B[39;49m\u001B[43m]\u001B[49m\u001B[38;5;241m.\u001B[39mvalues()))\n\u001B[1;32m      7\u001B[0m         \u001B[38;5;66;03m# auprc\u001B[39;00m\n\u001B[1;32m      8\u001B[0m         result[condition][game][method][\u001B[38;5;124m'\u001B[39m\u001B[38;5;124mauprc\u001B[39m\u001B[38;5;124m'\u001B[39m] \u001B[38;5;241m=\u001B[39m np\u001B[38;5;241m.\u001B[39marray(\u001B[38;5;28mlist\u001B[39m(result[condition][game][method][\u001B[38;5;124m'\u001B[39m\u001B[38;5;124mauprc\u001B[39m\u001B[38;5;124m'\u001B[39m]\u001B[38;5;241m.\u001B[39mvalues()))\n",
      "\u001B[0;31mKeyError\u001B[0m: 'auroc'"
     ]
    }
   ],
   "source": [
    "# calculate the mean and std of result\n",
    "for condition in result.keys():\n",
    "    for game in result[condition].keys():\n",
    "        for method in result[condition][game].keys():\n",
    "            # auroc\n",
    "            result[condition][game][method]['auroc'] = np.array(list(result[condition][game][method]['auroc'].values()))\n",
    "            # auprc\n",
    "            result[condition][game][method]['auprc'] = np.array(list(result[condition][game][method]['auprc'].values()))\n",
    "            print('-----------------')\n",
    "            print(f'{condition} {game} {method} mean: {np.mean(result[condition][game][method][\"auroc\"])}, std: {np.std(result[condition][game][method][\"auroc\"])}')\n",
    "            print(f'{condition} {game} {method} mean: {np.mean(result[condition][game][method][\"auprc\"])}, std: {np.std(result[condition][game][method][\"auprc\"])}')\n",
    "            print('-----------------')"
   ],
   "metadata": {
    "collapsed": false,
    "pycharm": {
     "name": "#%%\n"
    }
   }
  },
  {
   "cell_type": "code",
   "execution_count": null,
   "outputs": [],
   "source": [],
   "metadata": {
    "collapsed": false,
    "pycharm": {
     "name": "#%%\n"
    }
   }
  },
  {
   "cell_type": "markdown",
   "metadata": {
    "pycharm": {
     "name": "#%% md\n"
    }
   },
   "source": [
    "### Noise Runtime"
   ]
  },
  {
   "cell_type": "code",
   "execution_count": null,
   "outputs": [],
   "source": [
    "conditions = ['0.1noise', '0.3noise', '0.5noise']\n",
    "game = 'DonkeyKong'\n",
    "# collect inference result from traditional methods\n",
    "result.update(collect_inferences(file_cfg={'game': [game],\n",
    "                                        'method': ['corr', 'mi', 'gc', 'lingam'],\n",
    "                                        'seed': [42, 1, 2, 3, 4],\n",
    "                                        'note': conditions}, target_dir='.cache/sim_data/mos_auc_result'))\n",
    "# get result from deep learning method\n",
    "for condition in ['0.1noise', '0.3noise', '0.5noise']:\n",
    "    result[condition][game] = models_inference(keyword=[condition], result=result[condition][game],\n",
    "                                                target_dir=work_dir)"
   ],
   "metadata": {
    "collapsed": false,
    "pycharm": {
     "name": "#%%\n"
    }
   }
  },
  {
   "cell_type": "code",
   "execution_count": null,
   "outputs": [],
   "source": [
    "plot_regular_results(result, error_bar=True, conditions=['0.1noise'])"
   ],
   "metadata": {
    "collapsed": false,
    "pycharm": {
     "name": "#%%\n"
    }
   }
  },
  {
   "cell_type": "code",
   "execution_count": null,
   "metadata": {
    "collapsed": false,
    "jupyter": {
     "outputs_hidden": false
    },
    "pycharm": {
     "name": "#%%\n"
    }
   },
   "outputs": [],
   "source": [
    "plot_regular_results(result, error_bar=True, conditions=['0.3noise'])"
   ]
  },
  {
   "cell_type": "code",
   "execution_count": null,
   "metadata": {
    "collapsed": false,
    "jupyter": {
     "outputs_hidden": false
    },
    "pycharm": {
     "name": "#%%\n"
    }
   },
   "outputs": [],
   "source": [
    "plot_regular_results(result, error_bar=True, conditions=['0.5noise'])"
   ]
  },
  {
   "cell_type": "code",
   "execution_count": null,
   "metadata": {
    "collapsed": false,
    "jupyter": {
     "outputs_hidden": false
    },
    "pycharm": {
     "name": "#%%\n"
    }
   },
   "outputs": [],
   "source": [
    "y_labels = ['Regular', 'Noise Scale 0.1', 'Noise Scale 0.3', 'Noise Scale 0.5']\n",
    "plot_regular_results(result, conditions=['default', '0.1noise', '0.3noise', '0.5noise'],\n",
    "                     error_bar=True, plot_kwargs={'y_labels': y_labels, 'bar_height':0.5, 'interval': 3},\n",
    "                     save_dir='figures/Figure 4. Methods/noise')"
   ]
  },
  {
   "cell_type": "markdown",
   "metadata": {
    "pycharm": {
     "name": "#%% md\n"
    }
   },
   "source": [
    "### Cross Game"
   ]
  },
  {
   "cell_type": "code",
   "execution_count": 7,
   "metadata": {
    "collapsed": false,
    "jupyter": {
     "outputs_hidden": false
    },
    "pycharm": {
     "name": "#%%\n"
    }
   },
   "outputs": [
    {
     "name": "stdout",
     "output_type": "stream",
     "text": [
      "total models number: 3\n"
     ]
    },
    {
     "name": "stderr",
     "output_type": "stream",
     "text": [
      "0it [00:00, ?it/s]/home/charon/anaconda3/envs/dev_test/lib/python3.9/site-packages/torchmetrics/utilities/prints.py:36: UserWarning: Metric `AUROC` will save all targets and predictions in buffer. For large datasets this may lead to large memory footprint.\n",
      "  warnings.warn(*args, **kwargs)\n",
      "\n",
      "TCN:   0%|                                                                                                                                                                              | 0/26 [00:00<?, ?it/s]\u001B[A\n",
      "TCN:   4%|██████▍                                                                                                                                                               | 1/26 [00:04<01:56,  4.67s/it]\u001B[A\n",
      "TCN:   8%|████████████▊                                                                                                                                                         | 2/26 [00:04<00:49,  2.05s/it]\u001B[A\n",
      "TCN:  12%|███████████████████▏                                                                                                                                                  | 3/26 [00:05<00:29,  1.27s/it]\u001B[A\n",
      "TCN:  15%|█████████████████████████▌                                                                                                                                            | 4/26 [00:05<00:18,  1.18it/s]\u001B[A\n",
      "TCN:  19%|███████████████████████████████▉                                                                                                                                      | 5/26 [00:08<00:37,  1.78s/it]\u001B[A\n",
      "TCN:  23%|██████████████████████████████████████▎                                                                                                                               | 6/26 [00:09<00:24,  1.24s/it]\u001B[A\n",
      "TCN:  27%|████████████████████████████████████████████▋                                                                                                                         | 7/26 [00:09<00:18,  1.05it/s]\u001B[A\n",
      "TCN:  31%|███████████████████████████████████████████████████                                                                                                                   | 8/26 [00:09<00:12,  1.40it/s]\u001B[A\n",
      "TCN:  35%|█████████████████████████████████████████████████████████▍                                                                                                            | 9/26 [00:12<00:25,  1.50s/it]\u001B[A\n",
      "TCN:  38%|███████████████████████████████████████████████████████████████▍                                                                                                     | 10/26 [00:13<00:17,  1.10s/it]\u001B[A\n",
      "TCN:  42%|█████████████████████████████████████████████████████████████████████▊                                                                                               | 11/26 [00:13<00:13,  1.15it/s]\u001B[A\n",
      "TCN:  46%|████████████████████████████████████████████████████████████████████████████▏                                                                                        | 12/26 [00:13<00:09,  1.50it/s]\u001B[A\n",
      "TCN:  50%|██████████████████████████████████████████████████████████████████████████████████▌                                                                                  | 13/26 [00:16<00:18,  1.44s/it]\u001B[A\n",
      "TCN:  54%|████████████████████████████████████████████████████████████████████████████████████████▊                                                                            | 14/26 [00:17<00:12,  1.07s/it]\u001B[A\n",
      "TCN:  58%|███████████████████████████████████████████████████████████████████████████████████████████████▏                                                                     | 15/26 [00:17<00:09,  1.18it/s]\u001B[A\n",
      "TCN:  62%|█████████████████████████████████████████████████████████████████████████████████████████████████████▌                                                               | 16/26 [00:17<00:06,  1.53it/s]\u001B[A\n",
      "TCN:  65%|███████████████████████████████████████████████████████████████████████████████████████████████████████████▉                                                         | 17/26 [00:20<00:12,  1.42s/it]\u001B[A\n",
      "TCN:  69%|██████████████████████████████████████████████████████████████████████████████████████████████████████████████████▏                                                  | 18/26 [00:20<00:08,  1.06s/it]\u001B[A\n",
      "TCN:  73%|████████████████████████████████████████████████████████████████████████████████████████████████████████████████████████▌                                            | 19/26 [00:21<00:05,  1.19it/s]\u001B[A\n",
      "TCN:  77%|██████████████████████████████████████████████████████████████████████████████████████████████████████████████████████████████▉                                      | 20/26 [00:21<00:03,  1.53it/s]\u001B[A\n",
      "TCN:  81%|█████████████████████████████████████████████████████████████████████████████████████████████████████████████████████████████████████▎                               | 21/26 [00:24<00:07,  1.42s/it]\u001B[A\n",
      "TCN:  85%|███████████████████████████████████████████████████████████████████████████████████████████████████████████████████████████████████████████▌                         | 22/26 [00:24<00:04,  1.05s/it]\u001B[A\n",
      "TCN:  88%|█████████████████████████████████████████████████████████████████████████████████████████████████████████████████████████████████████████████████▉                   | 23/26 [00:25<00:02,  1.19it/s]\u001B[A\n",
      "TCN:  92%|████████████████████████████████████████████████████████████████████████████████████████████████████████████████████████████████████████████████████████▎            | 24/26 [00:25<00:01,  1.54it/s]\u001B[A\n",
      "TCN: 100%|█████████████████████████████████████████████████████████████████████████████████████████████████████████████████████████████████████████████████████████████████████| 26/26 [00:28<00:00,  1.10s/it]\u001B[A\n",
      "1it [00:29, 29.14s/it]/home/charon/anaconda3/envs/dev_test/lib/python3.9/site-packages/torchmetrics/utilities/prints.py:36: UserWarning: Metric `AUROC` will save all targets and predictions in buffer. For large datasets this may lead to large memory footprint.\n",
      "  warnings.warn(*args, **kwargs)\n",
      "\n",
      "Transformer:   0%|                                                                                                                                                                      | 0/26 [00:00<?, ?it/s]\u001B[A\n",
      "Transformer:   4%|██████                                                                                                                                                        | 1/26 [00:04<01:43,  4.16s/it]\u001B[A\n",
      "Transformer:   8%|████████████▏                                                                                                                                                 | 2/26 [00:04<00:42,  1.78s/it]\u001B[A\n",
      "Transformer:  12%|██████████████████▏                                                                                                                                           | 3/26 [00:04<00:24,  1.08s/it]\u001B[A\n",
      "Transformer:  15%|████████████████████████▎                                                                                                                                     | 4/26 [00:04<00:15,  1.42it/s]\u001B[A\n",
      "Transformer:  19%|██████████████████████████████▍                                                                                                                               | 5/26 [00:08<00:36,  1.75s/it]\u001B[A\n",
      "Transformer:  23%|████████████████████████████████████▍                                                                                                                         | 6/26 [00:08<00:23,  1.20s/it]\u001B[A\n",
      "Transformer:  27%|██████████████████████████████████████████▌                                                                                                                   | 7/26 [00:08<00:17,  1.10it/s]\u001B[A\n",
      "Transformer:  31%|████████████████████████████████████████████████▌                                                                                                             | 8/26 [00:08<00:11,  1.51it/s]\u001B[A\n",
      "Transformer:  35%|██████████████████████████████████████████████████████▋                                                                                                       | 9/26 [00:12<00:25,  1.52s/it]\u001B[A\n",
      "Transformer:  38%|████████████████████████████████████████████████████████████▍                                                                                                | 10/26 [00:12<00:17,  1.09s/it]\u001B[A\n",
      "Transformer:  42%|██████████████████████████████████████████████████████████████████▍                                                                                          | 11/26 [00:12<00:13,  1.09it/s]\u001B[A\n",
      "Transformer:  46%|████████████████████████████████████████████████████████████████████████▍                                                                                    | 12/26 [00:13<00:09,  1.48it/s]\u001B[A\n",
      "Transformer:  50%|██████████████████████████████████████████████████████████████████████████████▌                                                                              | 13/26 [00:16<00:18,  1.44s/it]\u001B[A\n",
      "Transformer:  54%|████████████████████████████████████████████████████████████████████████████████████▌                                                                        | 14/26 [00:16<00:12,  1.04s/it]\u001B[A\n",
      "Transformer:  58%|██████████████████████████████████████████████████████████████████████████████████████████▌                                                                  | 15/26 [00:17<00:10,  1.06it/s]\u001B[A\n",
      "Transformer:  62%|████████████████████████████████████████████████████████████████████████████████████████████████▌                                                            | 16/26 [00:17<00:06,  1.44it/s]\u001B[A\n",
      "Transformer:  65%|██████████████████████████████████████████████████████████████████████████████████████████████████████▋                                                      | 17/26 [00:20<00:12,  1.41s/it]\u001B[A\n",
      "Transformer:  69%|████████████████████████████████████████████████████████████████████████████████████████████████████████████▋                                                | 18/26 [00:20<00:08,  1.02s/it]\u001B[A\n",
      "Transformer:  73%|██████████████████████████████████████████████████████████████████████████████████████████████████████████████████▋                                          | 19/26 [00:21<00:06,  1.03it/s]\u001B[A\n",
      "Transformer:  77%|████████████████████████████████████████████████████████████████████████████████████████████████████████████████████████▊                                    | 20/26 [00:21<00:04,  1.39it/s]\u001B[A\n",
      "Transformer:  81%|██████████████████████████████████████████████████████████████████████████████████████████████████████████████████████████████▊                              | 21/26 [00:24<00:06,  1.36s/it]\u001B[A\n",
      "Transformer:  85%|████████████████████████████████████████████████████████████████████████████████████████████████████████████████████████████████████▊                        | 22/26 [00:24<00:03,  1.01it/s]\u001B[A\n",
      "Transformer:  88%|██████████████████████████████████████████████████████████████████████████████████████████████████████████████████████████████████████████▉                  | 23/26 [00:25<00:02,  1.00it/s]\u001B[A\n",
      "Transformer:  92%|████████████████████████████████████████████████████████████████████████████████████████████████████████████████████████████████████████████████▉            | 24/26 [00:25<00:01,  1.36it/s]\u001B[A\n",
      "Transformer: 100%|█████████████████████████████████████████████████████████████████████████████████████████████████████████████████████████████████████████████████████████████| 26/26 [00:28<00:00,  1.08s/it]\u001B[A\n",
      "2it [00:57, 28.81s/it]/home/charon/anaconda3/envs/dev_test/lib/python3.9/site-packages/torchmetrics/utilities/prints.py:36: UserWarning: Metric `AUROC` will save all targets and predictions in buffer. For large datasets this may lead to large memory footprint.\n",
      "  warnings.warn(*args, **kwargs)\n",
      "\n",
      "LSTM:   0%|                                                                                                                                                                             | 0/26 [00:00<?, ?it/s]\u001B[A\n",
      "LSTM:   4%|██████▎                                                                                                                                                              | 1/26 [00:04<01:44,  4.19s/it]\u001B[A\n",
      "LSTM:   8%|████████████▋                                                                                                                                                        | 2/26 [00:04<00:42,  1.79s/it]\u001B[A\n",
      "LSTM:  12%|███████████████████                                                                                                                                                  | 3/26 [00:04<00:24,  1.08s/it]\u001B[A\n",
      "LSTM:  15%|█████████████████████████▍                                                                                                                                           | 4/26 [00:04<00:15,  1.44it/s]\u001B[A\n",
      "LSTM:  19%|███████████████████████████████▋                                                                                                                                     | 5/26 [00:08<00:37,  1.78s/it]\u001B[A\n",
      "LSTM:  23%|██████████████████████████████████████                                                                                                                               | 6/26 [00:08<00:24,  1.21s/it]\u001B[A\n",
      "LSTM:  27%|████████████████████████████████████████████▍                                                                                                                        | 7/26 [00:08<00:16,  1.12it/s]\u001B[A\n",
      "LSTM:  31%|██████████████████████████████████████████████████▊                                                                                                                  | 8/26 [00:08<00:11,  1.56it/s]\u001B[A\n",
      "LSTM:  35%|█████████████████████████████████████████████████████████                                                                                                            | 9/26 [00:12<00:26,  1.57s/it]\u001B[A\n",
      "LSTM:  38%|███████████████████████████████████████████████████████████████                                                                                                     | 10/26 [00:12<00:17,  1.12s/it]\u001B[A\n",
      "LSTM:  42%|█████████████████████████████████████████████████████████████████████▍                                                                                              | 11/26 [00:12<00:12,  1.18it/s]\u001B[A\n",
      "LSTM:  46%|███████████████████████████████████████████████████████████████████████████▋                                                                                        | 12/26 [00:12<00:08,  1.61it/s]\u001B[A\n",
      "LSTM:  50%|██████████████████████████████████████████████████████████████████████████████████                                                                                  | 13/26 [00:16<00:19,  1.52s/it]\u001B[A\n",
      "LSTM:  54%|████████████████████████████████████████████████████████████████████████████████████████▎                                                                           | 14/26 [00:16<00:13,  1.09s/it]\u001B[A\n",
      "LSTM:  58%|██████████████████████████████████████████████████████████████████████████████████████████████▌                                                                     | 15/26 [00:16<00:09,  1.20it/s]\u001B[A\n",
      "LSTM:  62%|████████████████████████████████████████████████████████████████████████████████████████████████████▉                                                               | 16/26 [00:16<00:06,  1.63it/s]\u001B[A\n",
      "LSTM:  65%|███████████████████████████████████████████████████████████████████████████████████████████████████████████▏                                                        | 17/26 [00:20<00:13,  1.50s/it]\u001B[A\n",
      "LSTM:  69%|█████████████████████████████████████████████████████████████████████████████████████████████████████████████████▌                                                  | 18/26 [00:20<00:08,  1.08s/it]\u001B[A\n",
      "LSTM:  73%|███████████████████████████████████████████████████████████████████████████████████████████████████████████████████████▊                                            | 19/26 [00:20<00:05,  1.21it/s]\u001B[A\n",
      "LSTM:  77%|██████████████████████████████████████████████████████████████████████████████████████████████████████████████████████████████▏                                     | 20/26 [00:20<00:03,  1.63it/s]\u001B[A\n",
      "LSTM:  81%|████████████████████████████████████████████████████████████████████████████████████████████████████████████████████████████████████▍                               | 21/26 [00:24<00:07,  1.49s/it]\u001B[A\n",
      "LSTM:  85%|██████████████████████████████████████████████████████████████████████████████████████████████████████████████████████████████████████████▊                         | 22/26 [00:24<00:04,  1.08s/it]\u001B[A\n",
      "LSTM:  88%|█████████████████████████████████████████████████████████████████████████████████████████████████████████████████████████████████████████████████                   | 23/26 [00:24<00:02,  1.21it/s]\u001B[A\n",
      "LSTM:  92%|███████████████████████████████████████████████████████████████████████████████████████████████████████████████████████████████████████████████████████▍            | 24/26 [00:24<00:01,  1.64it/s]\u001B[A\n",
      "LSTM: 100%|████████████████████████████████████████████████████████████████████████████████████████████████████████████████████████████████████████████████████████████████████| 26/26 [00:28<00:00,  1.09s/it]\u001B[A\n",
      "3it [01:26, 28.83s/it]\n"
     ]
    },
    {
     "name": "stdout",
     "output_type": "stream",
     "text": [
      "total models number: 3\n"
     ]
    },
    {
     "name": "stderr",
     "output_type": "stream",
     "text": [
      "0it [00:00, ?it/s]/home/charon/anaconda3/envs/dev_test/lib/python3.9/site-packages/torchmetrics/utilities/prints.py:36: UserWarning: Metric `AUROC` will save all targets and predictions in buffer. For large datasets this may lead to large memory footprint.\n",
      "  warnings.warn(*args, **kwargs)\n",
      "\n",
      "TCN:   0%|                                                                                                                                                                              | 0/18 [00:00<?, ?it/s]\u001B[A\n",
      "TCN:   6%|█████████▏                                                                                                                                                            | 1/18 [00:04<01:13,  4.32s/it]\u001B[A\n",
      "TCN:  11%|██████████████████▍                                                                                                                                                   | 2/18 [00:04<00:30,  1.90s/it]\u001B[A\n",
      "TCN:  17%|███████████████████████████▋                                                                                                                                          | 3/18 [00:04<00:17,  1.19s/it]\u001B[A\n",
      "TCN:  22%|████████████████████████████████████▉                                                                                                                                 | 4/18 [00:05<00:11,  1.25it/s]\u001B[A\n",
      "TCN:  28%|██████████████████████████████████████████████                                                                                                                        | 5/18 [00:08<00:22,  1.75s/it]\u001B[A\n",
      "TCN:  33%|███████████████████████████████████████████████████████▎                                                                                                              | 6/18 [00:08<00:14,  1.23s/it]\u001B[A\n",
      "TCN:  39%|████████████████████████████████████████████████████████████████▌                                                                                                     | 7/18 [00:09<00:10,  1.07it/s]\u001B[A\n",
      "TCN:  44%|█████████████████████████████████████████████████████████████████████████▊                                                                                            | 8/18 [00:09<00:07,  1.42it/s]\u001B[A\n",
      "TCN:  50%|███████████████████████████████████████████████████████████████████████████████████                                                                                   | 9/18 [00:12<00:13,  1.51s/it]\u001B[A\n",
      "TCN:  56%|███████████████████████████████████████████████████████████████████████████████████████████▋                                                                         | 10/18 [00:12<00:08,  1.11s/it]\u001B[A\n",
      "TCN:  61%|████████████████████████████████████████████████████████████████████████████████████████████████████▊                                                                | 11/18 [00:13<00:06,  1.14it/s]\u001B[A\n",
      "TCN:  67%|██████████████████████████████████████████████████████████████████████████████████████████████████████████████                                                       | 12/18 [00:13<00:04,  1.49it/s]\u001B[A\n",
      "TCN:  72%|███████████████████████████████████████████████████████████████████████████████████████████████████████████████████████▏                                             | 13/18 [00:16<00:07,  1.46s/it]\u001B[A\n",
      "TCN:  78%|████████████████████████████████████████████████████████████████████████████████████████████████████████████████████████████████▎                                    | 14/18 [00:16<00:04,  1.08s/it]\u001B[A\n",
      "TCN:  83%|█████████████████████████████████████████████████████████████████████████████████████████████████████████████████████████████████████████▌                           | 15/18 [00:17<00:02,  1.17it/s]\u001B[A\n",
      "TCN:  89%|██████████████████████████████████████████████████████████████████████████████████████████████████████████████████████████████████████████████████▋                  | 16/18 [00:17<00:01,  1.52it/s]\u001B[A\n",
      "TCN: 100%|█████████████████████████████████████████████████████████████████████████████████████████████████████████████████████████████████████████████████████████████████████| 18/18 [00:20<00:00,  1.14s/it]\u001B[A\n",
      "1it [00:20, 20.90s/it]/home/charon/anaconda3/envs/dev_test/lib/python3.9/site-packages/torchmetrics/utilities/prints.py:36: UserWarning: Metric `AUROC` will save all targets and predictions in buffer. For large datasets this may lead to large memory footprint.\n",
      "  warnings.warn(*args, **kwargs)\n",
      "\n",
      "Transformer:   0%|                                                                                                                                                                      | 0/18 [00:00<?, ?it/s]\u001B[A\n",
      "Transformer:   6%|████████▊                                                                                                                                                     | 1/18 [00:04<01:11,  4.23s/it]\u001B[A\n",
      "Transformer:  11%|█████████████████▌                                                                                                                                            | 2/18 [00:04<00:29,  1.82s/it]\u001B[A\n",
      "Transformer:  17%|██████████████████████████▎                                                                                                                                   | 3/18 [00:04<00:16,  1.10s/it]\u001B[A\n",
      "Transformer:  22%|███████████████████████████████████                                                                                                                           | 4/18 [00:04<00:10,  1.40it/s]\u001B[A\n",
      "Transformer:  28%|███████████████████████████████████████████▉                                                                                                                  | 5/18 [00:08<00:23,  1.77s/it]\u001B[A\n",
      "Transformer:  33%|████████████████████████████████████████████████████▋                                                                                                         | 6/18 [00:08<00:14,  1.21s/it]\u001B[A\n",
      "Transformer:  39%|█████████████████████████████████████████████████████████████▍                                                                                                | 7/18 [00:08<00:09,  1.11it/s]\u001B[A\n",
      "Transformer:  44%|██████████████████████████████████████████████████████████████████████▏                                                                                       | 8/18 [00:08<00:06,  1.53it/s]\u001B[A\n",
      "Transformer:  50%|███████████████████████████████████████████████████████████████████████████████                                                                               | 9/18 [00:12<00:13,  1.55s/it]\u001B[A\n",
      "Transformer:  56%|███████████████████████████████████████████████████████████████████████████████████████▏                                                                     | 10/18 [00:12<00:08,  1.11s/it]\u001B[A\n",
      "Transformer:  61%|███████████████████████████████████████████████████████████████████████████████████████████████▉                                                             | 11/18 [00:12<00:05,  1.18it/s]\u001B[A\n",
      "Transformer:  67%|████████████████████████████████████████████████████████████████████████████████████████████████████████▋                                                    | 12/18 [00:12<00:03,  1.59it/s]\u001B[A\n",
      "Transformer:  72%|█████████████████████████████████████████████████████████████████████████████████████████████████████████████████▍                                           | 13/18 [00:16<00:07,  1.51s/it]\u001B[A\n",
      "Transformer:  78%|██████████████████████████████████████████████████████████████████████████████████████████████████████████████████████████                                   | 14/18 [00:16<00:04,  1.09s/it]\u001B[A\n",
      "Transformer:  83%|██████████████████████████████████████████████████████████████████████████████████████████████████████████████████████████████████▊                          | 15/18 [00:16<00:02,  1.20it/s]\u001B[A\n",
      "Transformer:  89%|███████████████████████████████████████████████████████████████████████████████████████████████████████████████████████████████████████████▌                 | 16/18 [00:16<00:01,  1.61it/s]\u001B[A\n",
      "Transformer: 100%|█████████████████████████████████████████████████████████████████████████████████████████████████████████████████████████████████████████████████████████████| 18/18 [00:20<00:00,  1.13s/it]\u001B[A\n",
      "2it [00:41, 20.84s/it]/home/charon/anaconda3/envs/dev_test/lib/python3.9/site-packages/torchmetrics/utilities/prints.py:36: UserWarning: Metric `AUROC` will save all targets and predictions in buffer. For large datasets this may lead to large memory footprint.\n",
      "  warnings.warn(*args, **kwargs)\n",
      "\n",
      "LSTM:   0%|                                                                                                                                                                             | 0/18 [00:00<?, ?it/s]\u001B[A\n",
      "LSTM:   6%|█████████▏                                                                                                                                                           | 1/18 [00:04<01:12,  4.24s/it]\u001B[A\n",
      "LSTM:  11%|██████████████████▎                                                                                                                                                  | 2/18 [00:04<00:28,  1.81s/it]\u001B[A\n",
      "LSTM:  17%|███████████████████████████▌                                                                                                                                         | 3/18 [00:04<00:16,  1.09s/it]\u001B[A\n",
      "LSTM:  22%|████████████████████████████████████▋                                                                                                                                | 4/18 [00:04<00:09,  1.43it/s]\u001B[A\n",
      "LSTM:  28%|█████████████████████████████████████████████▊                                                                                                                       | 5/18 [00:08<00:23,  1.78s/it]\u001B[A\n",
      "LSTM:  33%|███████████████████████████████████████████████████████                                                                                                              | 6/18 [00:08<00:14,  1.21s/it]\u001B[A\n",
      "LSTM:  39%|████████████████████████████████████████████████████████████████▏                                                                                                    | 7/18 [00:08<00:09,  1.12it/s]\u001B[A\n",
      "LSTM:  44%|█████████████████████████████████████████████████████████████████████████▎                                                                                           | 8/18 [00:08<00:06,  1.56it/s]\u001B[A\n",
      "LSTM:  50%|██████████████████████████████████████████████████████████████████████████████████▌                                                                                  | 9/18 [00:12<00:13,  1.55s/it]\u001B[A\n",
      "LSTM:  56%|███████████████████████████████████████████████████████████████████████████████████████████                                                                         | 10/18 [00:12<00:08,  1.11s/it]\u001B[A\n",
      "LSTM:  61%|████████████████████████████████████████████████████████████████████████████████████████████████████▏                                                               | 11/18 [00:12<00:05,  1.18it/s]\u001B[A\n",
      "LSTM:  67%|█████████████████████████████████████████████████████████████████████████████████████████████████████████████▎                                                      | 12/18 [00:12<00:03,  1.61it/s]\u001B[A\n",
      "LSTM:  72%|██████████████████████████████████████████████████████████████████████████████████████████████████████████████████████▍                                             | 13/18 [00:16<00:07,  1.51s/it]\u001B[A\n",
      "LSTM:  78%|███████████████████████████████████████████████████████████████████████████████████████████████████████████████████████████████▌                                    | 14/18 [00:16<00:04,  1.08s/it]\u001B[A\n",
      "LSTM:  83%|████████████████████████████████████████████████████████████████████████████████████████████████████████████████████████████████████████▋                           | 15/18 [00:16<00:02,  1.21it/s]\u001B[A\n",
      "LSTM:  89%|█████████████████████████████████████████████████████████████████████████████████████████████████████████████████████████████████████████████████▊                  | 16/18 [00:16<00:01,  1.64it/s]\u001B[A\n",
      "LSTM: 100%|████████████████████████████████████████████████████████████████████████████████████████████████████████████████████████████████████████████████████████████████████| 18/18 [00:20<00:00,  1.12s/it]\u001B[A\n",
      "3it [01:02, 20.78s/it]\n"
     ]
    },
    {
     "name": "stdout",
     "output_type": "stream",
     "text": [
      "total models number: 3\n"
     ]
    },
    {
     "name": "stderr",
     "output_type": "stream",
     "text": [
      "0it [00:00, ?it/s]/home/charon/anaconda3/envs/dev_test/lib/python3.9/site-packages/torchmetrics/utilities/prints.py:36: UserWarning: Metric `AUROC` will save all targets and predictions in buffer. For large datasets this may lead to large memory footprint.\n",
      "  warnings.warn(*args, **kwargs)\n",
      "\n",
      "TCN:   0%|                                                                                                                                                                              | 0/22 [00:00<?, ?it/s]\u001B[A\n",
      "TCN:   5%|███████▌                                                                                                                                                              | 1/22 [00:04<01:30,  4.33s/it]\u001B[A\n",
      "TCN:   9%|███████████████                                                                                                                                                       | 2/22 [00:04<00:38,  1.91s/it]\u001B[A\n",
      "TCN:  14%|██████████████████████▋                                                                                                                                               | 3/22 [00:04<00:22,  1.19s/it]\u001B[A\n",
      "TCN:  18%|██████████████████████████████▏                                                                                                                                       | 4/22 [00:05<00:14,  1.25it/s]\u001B[A\n",
      "TCN:  23%|█████████████████████████████████████▋                                                                                                                                | 5/22 [00:08<00:29,  1.75s/it]\u001B[A\n",
      "TCN:  27%|█████████████████████████████████████████████▎                                                                                                                        | 6/22 [00:08<00:19,  1.22s/it]\u001B[A\n",
      "TCN:  32%|████████████████████████████████████████████████████▊                                                                                                                 | 7/22 [00:09<00:14,  1.07it/s]\u001B[A\n",
      "TCN:  36%|████████████████████████████████████████████████████████████▎                                                                                                         | 8/22 [00:09<00:09,  1.42it/s]\u001B[A\n",
      "TCN:  41%|███████████████████████████████████████████████████████████████████▉                                                                                                  | 9/22 [00:12<00:19,  1.51s/it]\u001B[A\n",
      "TCN:  45%|███████████████████████████████████████████████████████████████████████████                                                                                          | 10/22 [00:12<00:13,  1.11s/it]\u001B[A\n",
      "TCN:  50%|██████████████████████████████████████████████████████████████████████████████████▌                                                                                  | 11/22 [00:13<00:09,  1.15it/s]\u001B[A\n",
      "TCN:  55%|██████████████████████████████████████████████████████████████████████████████████████████                                                                           | 12/22 [00:13<00:06,  1.49it/s]\u001B[A\n",
      "TCN:  59%|█████████████████████████████████████████████████████████████████████████████████████████████████▌                                                                   | 13/22 [00:16<00:13,  1.46s/it]\u001B[A\n",
      "TCN:  64%|█████████████████████████████████████████████████████████████████████████████████████████████████████████                                                            | 14/22 [00:16<00:08,  1.08s/it]\u001B[A\n",
      "TCN:  68%|████████████████████████████████████████████████████████████████████████████████████████████████████████████████▍                                                    | 15/22 [00:17<00:06,  1.16it/s]\u001B[A\n",
      "TCN:  73%|████████████████████████████████████████████████████████████████████████████████████████████████████████████████████████                                             | 16/22 [00:17<00:03,  1.51it/s]\u001B[A\n",
      "TCN:  77%|███████████████████████████████████████████████████████████████████████████████████████████████████████████████████████████████▌                                     | 17/22 [00:20<00:07,  1.44s/it]\u001B[A\n",
      "TCN:  82%|███████████████████████████████████████████████████████████████████████████████████████████████████████████████████████████████████████                              | 18/22 [00:20<00:04,  1.07s/it]\u001B[A\n",
      "TCN:  86%|██████████████████████████████████████████████████████████████████████████████████████████████████████████████████████████████████████████████▌                      | 19/22 [00:21<00:02,  1.18it/s]\u001B[A\n",
      "TCN:  91%|██████████████████████████████████████████████████████████████████████████████████████████████████████████████████████████████████████████████████████               | 20/22 [00:21<00:01,  1.53it/s]\u001B[A\n",
      "TCN:  95%|█████████████████████████████████████████████████████████████████████████████████████████████████████████████████████████████████████████████████████████████▌       | 21/22 [00:24<00:01,  1.37s/it]\u001B[A\n",
      "TCN: 100%|█████████████████████████████████████████████████████████████████████████████████████████████████████████████████████████████████████████████████████████████████████| 22/22 [00:24<00:00,  1.12s/it]\u001B[A\n",
      "1it [00:25, 25.02s/it]/home/charon/anaconda3/envs/dev_test/lib/python3.9/site-packages/torchmetrics/utilities/prints.py:36: UserWarning: Metric `AUROC` will save all targets and predictions in buffer. For large datasets this may lead to large memory footprint.\n",
      "  warnings.warn(*args, **kwargs)\n",
      "\n",
      "Transformer:   0%|                                                                                                                                                                      | 0/22 [00:00<?, ?it/s]\u001B[A\n",
      "Transformer:   5%|███████▏                                                                                                                                                      | 1/22 [00:04<01:29,  4.25s/it]\u001B[A\n",
      "Transformer:   9%|██████████████▎                                                                                                                                               | 2/22 [00:04<00:36,  1.83s/it]\u001B[A\n",
      "Transformer:  14%|█████████████████████▌                                                                                                                                        | 3/22 [00:04<00:21,  1.11s/it]\u001B[A\n",
      "Transformer:  18%|████████████████████████████▋                                                                                                                                 | 4/22 [00:04<00:12,  1.39it/s]\u001B[A\n",
      "Transformer:  23%|███████████████████████████████████▉                                                                                                                          | 5/22 [00:08<00:30,  1.79s/it]\u001B[A\n",
      "Transformer:  27%|███████████████████████████████████████████                                                                                                                   | 6/22 [00:08<00:19,  1.22s/it]\u001B[A\n",
      "Transformer:  32%|██████████████████████████████████████████████████▎                                                                                                           | 7/22 [00:08<00:13,  1.10it/s]\u001B[A\n",
      "Transformer:  36%|█████████████████████████████████████████████████████████▍                                                                                                    | 8/22 [00:08<00:09,  1.52it/s]\u001B[A\n",
      "Transformer:  41%|████████████████████████████████████████████████████████████████▋                                                                                             | 9/22 [00:12<00:20,  1.60s/it]\u001B[A\n",
      "Transformer:  45%|███████████████████████████████████████████████████████████████████████▎                                                                                     | 10/22 [00:12<00:13,  1.15s/it]\u001B[A\n",
      "Transformer:  50%|██████████████████████████████████████████████████████████████████████████████▌                                                                              | 11/22 [00:13<00:09,  1.14it/s]\u001B[A\n",
      "Transformer:  55%|█████████████████████████████████████████████████████████████████████████████████████▋                                                                       | 12/22 [00:13<00:06,  1.54it/s]\u001B[A\n",
      "Transformer:  59%|████████████████████████████████████████████████████████████████████████████████████████████▊                                                                | 13/22 [00:16<00:13,  1.50s/it]\u001B[A\n",
      "Transformer:  64%|███████████████████████████████████████████████████████████████████████████████████████████████████▉                                                         | 14/22 [00:16<00:08,  1.09s/it]\u001B[A\n",
      "Transformer:  68%|███████████████████████████████████████████████████████████████████████████████████████████████████████████                                                  | 15/22 [00:16<00:05,  1.19it/s]\u001B[A\n",
      "Transformer:  73%|██████████████████████████████████████████████████████████████████████████████████████████████████████████████████▏                                          | 16/22 [00:17<00:03,  1.61it/s]\u001B[A\n",
      "Transformer:  77%|█████████████████████████████████████████████████████████████████████████████████████████████████████████████████████████▎                                   | 17/22 [00:20<00:07,  1.47s/it]\u001B[A\n",
      "Transformer:  82%|████████████████████████████████████████████████████████████████████████████████████████████████████████████████████████████████▍                            | 18/22 [00:20<00:04,  1.07s/it]\u001B[A\n",
      "Transformer:  86%|███████████████████████████████████████████████████████████████████████████████████████████████████████████████████████████████████████▌                     | 19/22 [00:20<00:02,  1.22it/s]\u001B[A\n",
      "Transformer:  91%|██████████████████████████████████████████████████████████████████████████████████████████████████████████████████████████████████████████████▋              | 20/22 [00:21<00:01,  1.64it/s]\u001B[A\n",
      "Transformer:  95%|█████████████████████████████████████████████████████████████████████████████████████████████████████████████████████████████████████████████████████▊       | 21/22 [00:24<00:01,  1.41s/it]\u001B[A\n",
      "Transformer: 100%|█████████████████████████████████████████████████████████████████████████████████████████████████████████████████████████████████████████████████████████████| 22/22 [00:24<00:00,  1.12s/it]\u001B[A\n",
      "2it [00:50, 25.00s/it]/home/charon/anaconda3/envs/dev_test/lib/python3.9/site-packages/torchmetrics/utilities/prints.py:36: UserWarning: Metric `AUROC` will save all targets and predictions in buffer. For large datasets this may lead to large memory footprint.\n",
      "  warnings.warn(*args, **kwargs)\n",
      "\n",
      "LSTM:   0%|                                                                                                                                                                             | 0/22 [00:00<?, ?it/s]\u001B[A\n",
      "LSTM:   5%|███████▌                                                                                                                                                             | 1/22 [00:04<01:28,  4.21s/it]\u001B[A\n",
      "LSTM:   9%|███████████████                                                                                                                                                      | 2/22 [00:04<00:35,  1.80s/it]\u001B[A\n",
      "LSTM:  14%|██████████████████████▌                                                                                                                                              | 3/22 [00:04<00:20,  1.08s/it]\u001B[A\n",
      "LSTM:  18%|██████████████████████████████                                                                                                                                       | 4/22 [00:04<00:12,  1.44it/s]\u001B[A\n",
      "LSTM:  23%|█████████████████████████████████████▌                                                                                                                               | 5/22 [00:08<00:30,  1.78s/it]\u001B[A\n",
      "LSTM:  27%|█████████████████████████████████████████████                                                                                                                        | 6/22 [00:08<00:19,  1.21s/it]\u001B[A\n",
      "LSTM:  32%|████████████████████████████████████████████████████▌                                                                                                                | 7/22 [00:08<00:13,  1.12it/s]\u001B[A\n",
      "LSTM:  36%|████████████████████████████████████████████████████████████                                                                                                         | 8/22 [00:08<00:09,  1.55it/s]\u001B[A\n",
      "LSTM:  41%|███████████████████████████████████████████████████████████████████▌                                                                                                 | 9/22 [00:12<00:20,  1.56s/it]\u001B[A\n",
      "LSTM:  45%|██████████████████████████████████████████████████████████████████████████▌                                                                                         | 10/22 [00:12<00:13,  1.11s/it]\u001B[A\n",
      "LSTM:  50%|██████████████████████████████████████████████████████████████████████████████████                                                                                  | 11/22 [00:12<00:09,  1.19it/s]\u001B[A\n",
      "LSTM:  55%|█████████████████████████████████████████████████████████████████████████████████████████▍                                                                          | 12/22 [00:12<00:06,  1.62it/s]\u001B[A\n",
      "LSTM:  59%|████████████████████████████████████████████████████████████████████████████████████████████████▉                                                                   | 13/22 [00:16<00:13,  1.51s/it]\u001B[A\n",
      "LSTM:  64%|████████████████████████████████████████████████████████████████████████████████████████████████████████▎                                                           | 14/22 [00:16<00:08,  1.08s/it]\u001B[A\n",
      "LSTM:  68%|███████████████████████████████████████████████████████████████████████████████████████████████████████████████▊                                                    | 15/22 [00:16<00:05,  1.21it/s]\u001B[A\n",
      "LSTM:  73%|███████████████████████████████████████████████████████████████████████████████████████████████████████████████████████▎                                            | 16/22 [00:16<00:03,  1.64it/s]\u001B[A\n",
      "LSTM:  77%|██████████████████████████████████████████████████████████████████████████████████████████████████████████████████████████████▋                                     | 17/22 [00:20<00:07,  1.50s/it]\u001B[A\n",
      "LSTM:  82%|██████████████████████████████████████████████████████████████████████████████████████████████████████████████████████████████████████▏                             | 18/22 [00:20<00:04,  1.08s/it]\u001B[A\n",
      "LSTM:  86%|█████████████████████████████████████████████████████████████████████████████████████████████████████████████████████████████████████████████▋                      | 19/22 [00:20<00:02,  1.21it/s]\u001B[A\n",
      "LSTM:  91%|█████████████████████████████████████████████████████████████████████████████████████████████████████████████████████████████████████████████████████               | 20/22 [00:20<00:01,  1.64it/s]\u001B[A\n",
      "LSTM: 100%|████████████████████████████████████████████████████████████████████████████████████████████████████████████████████████████████████████████████████████████████████| 22/22 [00:24<00:00,  1.11s/it]\u001B[A\n",
      "3it [01:14, 24.95s/it]\n"
     ]
    }
   ],
   "source": [
    "# prediction by different seeds\n",
    "cross_result = {}\n",
    "condition = 'default'\n",
    "\n",
    "# collect inference result from traditional methods\n",
    "cross_result = collect_inferences(file_cfg={'game': ['DonkeyKong', 'Pitfall', 'SpaceInvaders'],\n",
    "                                        'method': ['corr', 'mi', 'gc', 'lingam'],\n",
    "                                        'seed': [42, 1, 2, 3, 4],\n",
    "                                        'note': [condition]}, target_dir='.cache/sim_data/mos_auc_result')\n",
    "# get result from deep learning method\n",
    "for game in ['DonkeyKong', 'Pitfall', 'SpaceInvaders']:\n",
    "    def testset_modifier(cfg):\n",
    "        cfg.test.data_root = f'.cache/sim_data/{game}/HR/' + 'Regular_3510_step_256_rec_2e3.npy'\n",
    "        cfg.test.split = f'.cache/sim_data/{game}/csv/fold_seed_42/' + 'test_sim_grouped.csv'\n",
    "        return cfg\n",
    "    cross_result[condition][game] = models_inference(['fold_seed_42'], result=cross_result[condition][game], screen=['noise'], target_dir=work_dir, cfg_hook=testset_modifier)\n"
   ]
  },
  {
   "cell_type": "code",
   "execution_count": null,
   "metadata": {
    "collapsed": false,
    "jupyter": {
     "outputs_hidden": false
    },
    "pycharm": {
     "name": "#%%\n"
    }
   },
   "outputs": [],
   "source": [
    "y_labels = ['DonkeyKong', 'Pitfall', 'SpaceInvaders']\n",
    "# wrap the dict format to match the plot function\n",
    "_cross_result = {k: {k: cross_result['default'][k]} for k, v in cross_result['default'].items()}\n",
    "plot_regular_results(_cross_result, conditions=y_labels,\n",
    "                     plot_kwargs={'y_labels': y_labels, 'bar_height':0.5, 'interval': 3,\n",
    "                                  'title': 'Methods Comparison cross Games'},\n",
    "                     save_dir='figures/Figure 4. Methods/game')"
   ]
  },
  {
   "cell_type": "markdown",
   "metadata": {
    "pycharm": {
     "name": "#%% md\n"
    }
   },
   "source": [
    "# NetSim"
   ]
  },
  {
   "cell_type": "markdown",
   "source": [
    "### Checkpoint Inference"
   ],
   "metadata": {
    "collapsed": false,
    "pycharm": {
     "name": "#%% md\n"
    }
   }
  },
  {
   "cell_type": "code",
   "execution_count": null,
   "metadata": {
    "execution": {
     "iopub.execute_input": "2022-10-13T04:06:27.347300Z",
     "iopub.status.busy": "2022-10-13T04:06:27.346652Z",
     "iopub.status.idle": "2022-10-13T04:06:27.353476Z",
     "shell.execute_reply": "2022-10-13T04:06:27.353025Z",
     "shell.execute_reply.started": "2022-10-13T04:06:27.347277Z"
    },
    "tags": [],
    "pycharm": {
     "name": "#%%\n"
    }
   },
   "outputs": [],
   "source": [
    "# model inference\n",
    "def eval_netsim(cfg, ckpt, sim='default', add_noise=False):\n",
    "    di, mi = prepare_inference(cfg, ckpt)\n",
    "    mi = mi.cuda()\n",
    "    if sim != 'default':\n",
    "        di.data_cfg.test.data_root = sim\n",
    "        di.data_cfg.test.percentage = [0.6, 1.0]\n",
    "        if add_noise:\n",
    "            di.data_cfg.test.pipeline = [dict(type='TsAug', transforms=[dict(type='AddNoise', scale=0.5, normalize=True, seed=42)]),\n",
    "                                         dict(type='ToTensor')]\n",
    "    di.setup(stage='test')\n",
    "    di.data_cfg.test_batch_size = 1024*10\n",
    "    di.data_cfg.test_batch_size = 1024*10\n",
    "    dl = di.test_dataloader()\n",
    "    preds = []\n",
    "    labels = []\n",
    "    mi.eval()\n",
    "    with torch.no_grad():\n",
    "        for i, (x, y) in tqdm(enumerate(dl), total=len(dl), desc=f'{mi.hparams.model.backbone.type}'):\n",
    "            pred = mi({k: v.cuda() for k, v in x.items()})\n",
    "            preds.append(pred.softmax(dim=-1)[:, 1].detach().cpu())\n",
    "            labels.append(y.detach().cpu())\n",
    "\n",
    "        preds = torch.cat(preds, dim=0)\n",
    "        labels = torch.cat(labels, dim=0)\n",
    "    return preds, labels\n"
   ]
  },
  {
   "cell_type": "code",
   "execution_count": null,
   "metadata": {
    "execution": {
     "iopub.execute_input": "2022-10-13T04:06:35.677429Z",
     "iopub.status.busy": "2022-10-13T04:06:35.676798Z",
     "iopub.status.idle": "2022-10-13T04:07:05.279705Z",
     "shell.execute_reply": "2022-10-13T04:07:05.278866Z",
     "shell.execute_reply.started": "2022-10-13T04:06:35.677408Z"
    },
    "tags": [],
    "pycharm": {
     "name": "#%%\n"
    }
   },
   "outputs": [],
   "source": [
    "# directory of netsim dataset\n",
    "netsim_dir = '.cache/netsim'\n",
    "sims = [f'{netsim_dir}/sim{i}.mat' for i in [1, 2, 3, 4, 8, 10, 11, 12, 13, 14, 15, 16, 17, 18, 21, 22, 23, 24]]\n",
    "\n",
    "mi_dicts = cfg_ckpt2dict(search_cfg_ckpt(keyword=['netsim', 'partial', 'transformer'], screen=['lag', 'norm'], target_dir=root_dir))\n",
    "\n",
    "cfgs, ckpts = [], []\n",
    "for k, v in mi_dicts.items():\n",
    "    cfgs.append(k)\n",
    "    ckpts.append(v)\n",
    "cfg, ckpt = cfgs[0], ckpts[0]\n",
    "\n",
    "print(f'total models number: {len(mi_dicts)}')"
   ]
  },
  {
   "cell_type": "markdown",
   "source": [
    "### Load precomputed result of other methods in NetSim and calculate AUC\n",
    "since doing inference by traditional methods is time consuming, we precomputed the result and save it in `.cache/sim_data/default_result.pkl` and `.cache/sim_data/noise_result.pkl` as we mentioned in the appendix.\n",
    "result = {'mi': [{'pred': pred, 'label': label}...], 'gc': [{'pred': pred, 'label': label}...]}"
   ],
   "metadata": {
    "collapsed": false,
    "pycharm": {
     "name": "#%% md\n"
    }
   }
  },
  {
   "cell_type": "code",
   "execution_count": null,
   "metadata": {
    "execution": {
     "iopub.execute_input": "2022-10-13T04:02:59.413726Z",
     "iopub.status.busy": "2022-10-13T04:02:59.412935Z",
     "iopub.status.idle": "2022-10-13T04:02:59.598550Z",
     "shell.execute_reply": "2022-10-13T04:02:59.597996Z",
     "shell.execute_reply.started": "2022-10-13T04:02:59.413704Z"
    },
    "tags": [],
    "pycharm": {
     "name": "#%%\n"
    }
   },
   "outputs": [],
   "source": [
    "lcd_auc = []\n",
    "for sim in sims:\n",
    "    preds, labels = eval_netsim(cfg, ckpt, sim=sim)\n",
    "    # auc\n",
    "    lcd_auc.append(auroc(preds, labels))\n",
    "\n",
    "graph_auc = {}\n",
    "default_result = pickle.load(open('.cache/sim_data/netsim_auc_result/default_result.pkl', 'rb'))\n",
    "pred_sldisco, pred_ges, pred_gc, pred_mi, pred_lingam = default_result['sldisco'], default_result['ges'], default_result['gc'],  default_result['mi'], default_result['lingam']\n",
    "\n",
    "netsim_dir = '.cache/netsim'\n",
    "sims = [f'{netsim_dir}/sim{i}.mat' for i in [1, 2, 3, 4, 8, 10, 11, 12, 13, 14, 15, 16, 17, 18, 21, 22, 23, 24]]\n",
    "\n",
    "# iterate over all the methods\n",
    "for method, pred in zip(['sldisco', 'ges', 'gc', 'mi', 'lingam'], [pred_sldisco, pred_ges, pred_gc, pred_mi, pred_lingam]):\n",
    "    auc = []\n",
    "    for sim, res in zip(sims, pred):\n",
    "        # auc\n",
    "        if not pred[sim]:\n",
    "            # for ges gc\n",
    "            assert method in ['ges', 'gc'], 'only ges and gc have no result'\n",
    "            auc.append(np.nan)\n",
    "        else:\n",
    "            dd = [(np.array(d['pred']).reshape(-1), np.where(np.array(d['label'])!=0, 1, 0).reshape(-1)) for d in pred[sim]]\n",
    "            auc.append(auroc(torch.from_numpy(np.concatenate([d[0] for d in dd])).to(torch.float32), torch.from_numpy(np.concatenate([d[1] for d in dd])).to(torch.int32)))\n",
    "    graph_auc[method] = auc"
   ]
  },
  {
   "cell_type": "code",
   "execution_count": null,
   "metadata": {
    "execution": {
     "iopub.execute_input": "2022-10-13T04:03:01.717619Z",
     "iopub.status.busy": "2022-10-13T04:03:01.717355Z",
     "iopub.status.idle": "2022-10-13T04:03:02.659833Z",
     "shell.execute_reply": "2022-10-13T04:03:02.659322Z",
     "shell.execute_reply.started": "2022-10-13T04:03:01.717601Z"
    },
    "tags": [],
    "pycharm": {
     "name": "#%%\n"
    }
   },
   "outputs": [],
   "source": [
    "# default\n",
    "\n",
    "import matplotlib.pyplot as plt\n",
    "\n",
    "sldisco_auc, ges_auc, gc_auc, mi_auc, lingam_auc = graph_auc['sldisco'], graph_auc['ges'], \\\n",
    "                                                   graph_auc['gc'], graph_auc['mi'], graph_auc['lingam']\n",
    "\n",
    "cls = [218, 240, 178, 146, 212, 185, 62, 179, 195, 30, 128, 184, 36, 65, 154, 10,31, 93]\n",
    "\n",
    "def digits2color(digits):\n",
    "    d_group = [digits[i:i+3] for i in range(0, len(digits), 3)]\n",
    "    colors = [tuple((np.array(d)/255).tolist()) for d in d_group]\n",
    "    return colors\n",
    "cls = digits2color(cls)\n",
    "\n",
    "plt.figure(figsize=(10, 5), dpi=300)\n",
    "plt.plot(lcd_auc, linestyle='--', marker='o', color=cls[-1], label='Transformer')\n",
    "plt.plot(lingam_auc, linestyle='--', marker='s', color=cls[5], label='ICA-LiNGAM')\n",
    "plt.plot(mi_auc, linestyle='--', marker='^', color=cls[4], label='Mutual Information')\n",
    "plt.plot(sldisco_auc, linestyle='--', marker='<', color=cls[3], label='SLDisco')\n",
    "plt.plot(ges_auc, linestyle='--', marker='>', color=cls[2], label='GES')\n",
    "plt.plot(gc_auc, linestyle='--', marker='v', color=cls[1], label='Linear Granger Causality')\n",
    "plt.xticks(range(len(sims)), [sim.split('/')[-1].strip('.mat') for sim in sims ], rotation=90)\n",
    "plt.ylim(0.2, 1.0)\n",
    "plt.ylabel('AUROC')\n",
    "plt.legend(loc='upper right')\n",
    "plt.savefig('figures/Figure 6. NetSim/default_result.svg')"
   ]
  },
  {
   "cell_type": "code",
   "execution_count": null,
   "outputs": [],
   "source": [
    "# noise\n",
    "lcd_auc = []\n",
    "for sim in sims:\n",
    "    preds, labels = eval_netsim(cfg, ckpt, sim=sim, add_noise=True)\n",
    "    # auc\n",
    "    lcd_auc.append(auroc(preds, labels))\n",
    "\n",
    "graph_auc = {}\n",
    "noise_result = pickle.load(open('.cache/sim_data/netsim_auc_result/noise_result.pkl', 'rb'))\n",
    "pred_sldisco, pred_ges, pred_gc, pred_mi, pred_lingam = noise_result['sldisco'], noise_result['ges'], noise_result['gc'], noise_result['mi'], noise_result['lingam']\n",
    "\n",
    "# iterate over all the methods\n",
    "for method, pred in zip(['sldisco', 'ges', 'gc', 'mi', 'lingam'], [pred_sldisco, pred_ges, pred_gc, pred_mi, pred_lingam]):\n",
    "    auc = []\n",
    "    for sim, res in zip(sims, pred):\n",
    "        # auc\n",
    "        if not pred[sim]:\n",
    "            # for ges gc\n",
    "            assert method in ['ges', 'gc'], 'only ges and gc have no result'\n",
    "            auc.append(np.nan)\n",
    "        else:\n",
    "            dd = [(np.array(d['pred']).reshape(-1), np.where(np.array(d['label'])!=0, 1, 0).reshape(-1)) for d in pred[sim]]\n",
    "            auc.append(auroc(torch.from_numpy(np.concatenate([d[0] for d in dd])).to(torch.float32), torch.from_numpy(np.concatenate([d[1] for d in dd])).to(torch.int32)))\n",
    "    graph_auc[method] = auc\n",
    "\n",
    "sldisco_auc, ges_auc, gc_auc, mi_auc, lingam_auc = graph_auc['sldisco'], graph_auc['ges'], \\\n",
    "                                                   graph_auc['gc'], graph_auc['mi'], graph_auc['lingam']\n",
    "\n",
    "cls = [218, 240, 178, 146, 212, 185, 62, 179, 195, 30, 128, 184, 36, 65, 154, 10,31, 93]\n",
    "\n",
    "def digits2color(digits):\n",
    "    d_group = [digits[i:i+3] for i in range(0, len(digits), 3)]\n",
    "    colors = [tuple((np.array(d)/255).tolist()) for d in d_group]\n",
    "    return colors\n",
    "cls = digits2color(cls)\n",
    "\n",
    "plt.figure(figsize=(10, 5), dpi=300)\n",
    "plt.plot(lcd_auc, linestyle='--', marker='o', color=cls[-1], label='Transformer')\n",
    "plt.plot(lingam_auc, linestyle='--', marker='s', color=cls[5], label='ICA-LiNGAM')\n",
    "plt.plot(mi_auc, linestyle='--', marker='^', color=cls[4], label='Mutual Information')\n",
    "plt.plot(sldisco_auc, linestyle='--', marker='<', color=cls[3], label='SLDisco')\n",
    "plt.plot(ges_auc, linestyle='--', marker='>', color=cls[2], label='GES')\n",
    "plt.plot(gc_auc, linestyle='--', marker='v', color=cls[1], label='Linear Granger Causality')\n",
    "plt.xticks(range(len(sims)), [sim.split('/')[-1].strip('.mat') for sim in sims], rotation=90)\n",
    "plt.ylim(0.2, 1.0)\n",
    "plt.ylabel('AUROC')\n",
    "plt.legend(loc='upper right')\n",
    "plt.savefig('figures/Figure 6. NetSim/noise_result.svg')"
   ],
   "metadata": {
    "collapsed": false,
    "pycharm": {
     "name": "#%%\n"
    }
   }
  }
 ],
 "metadata": {
  "kernelspec": {
   "name": "python3",
   "language": "python",
   "display_name": "Python 3 (ipykernel)"
  },
  "language_info": {
   "codemirror_mode": {
    "name": "ipython",
    "version": 3
   },
   "file_extension": ".py",
   "mimetype": "text/x-python",
   "name": "python",
   "nbconvert_exporter": "python",
   "pygments_lexer": "ipython3",
   "version": "3.9.13"
  }
 },
 "nbformat": 4,
 "nbformat_minor": 4
}