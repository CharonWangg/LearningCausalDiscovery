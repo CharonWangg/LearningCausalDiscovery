{
 "cells": [
  {
   "cell_type": "code",
   "execution_count": 23,
   "metadata": {
    "collapsed": true,
    "pycharm": {
     "name": "#%%\n"
    }
   },
   "outputs": [],
   "source": [
    "import os\n",
    "import pickle\n",
    "import numpy as np\n",
    "import matplotlib.pyplot as plt\n",
    "import matplotlib.colors as colors\n",
    "import pandas as pd\n",
    "from tqdm import tqdm\n",
    "import multiprocessing as mp\n",
    "plt.style.use('bmh')\n",
    "\n",
    "os.chdir('project/learning_causal_discovery/')"
   ]
  },
  {
   "cell_type": "code",
   "execution_count": null,
   "outputs": [],
   "source": [
    "# get transistor meta-data\n",
    "!cd .cache/sim_data && wget -N https://s3-us-west-2.amazonaws.com/ericmjonas-public/data/neuroproc/transistors.csv"
   ],
   "metadata": {
    "collapsed": false,
    "pycharm": {
     "name": "#%%\n",
     "is_executing": true
    }
   }
  },
  {
   "cell_type": "code",
   "execution_count": 27,
   "outputs": [],
   "source": [
    "interval = 10\n",
    "stepLimit = 2000\n",
    "root_dir = '.cache/sim_data'"
   ],
   "metadata": {
    "collapsed": false,
    "pycharm": {
     "name": "#%%\n"
    }
   }
  },
  {
   "cell_type": "code",
   "execution_count": 28,
   "outputs": [],
   "source": [
    "# helper functions\n",
    "def get_cmap_slice(cmap, start, stop, n=256, name='my_slice'):\n",
    "    '''\n",
    "    Create a slice of a colormap.\n",
    "    '''\n",
    "    return colors.LinearSegmentedColormap.from_list(name, cmap(np.linspace(start, stop, cmap.N)),N=n)\n",
    "\n",
    "# get geometry information of transistors\n",
    "ts_info = pd.read_csv(os.path.join(os.path.dirname(root_dir), 'transistors.csv'))\n",
    "\n",
    "def get_strength(kwargs):\n",
    "    idx, game = kwargs['idx'], kwargs['game']\n",
    "    if isinstance(idx, int):\n",
    "        unique_perturb = pickle.load(open(os.path.join(root_dir, f\"{game}/perturb_config.pkl\"), \"rb\"), encoding='latin1')\n",
    "        orig = np.load(os.path.join(root_dir, f'{game}/HR/Regular_3510_step_256_rec_2e3.npy'), mmap_mode='r')[:, ::interval]\n",
    "        potential_resultant = []\n",
    "        perturb = np.load(os.path.join(root_dir, f\"{game}/HR/Adaptive_3510_step_256_tidx_{idx}.npy\"),\n",
    "                          mmap_mode='r')\n",
    "        padded_perturb = np.concatenate(\n",
    "            (perturb[:, :-1], np.tile(perturb[:, -2].reshape(-1, 1), stepLimit - perturb.shape[1] + 1)), axis=1)[:, ::interval]\n",
    "        for i in range(3510):\n",
    "            if i != idx:\n",
    "                if unique_perturb[idx][1] == 'high':\n",
    "                    div_point = np.where(orig[idx] != 1)[0][0]\n",
    "                else:\n",
    "                    div_point = np.where(orig[idx] != 0)[0][0]\n",
    "\n",
    "                if not (padded_perturb[i][(div_point - (unique_perturb[idx][0] * stepLimit//interval)):] == orig[i, div_point: ((unique_perturb[idx][0] + 1) * stepLimit//interval)]).all() and \\\n",
    "                        (padded_perturb[i][:(div_point - (unique_perturb[idx][0] * stepLimit//interval))] == orig[i, (unique_perturb[idx][0] * stepLimit//interval):div_point]).all():\n",
    "                    # calculate the cause effect of the perturbation\n",
    "                    potential_resultant.append(\n",
    "                        sum(abs(padded_perturb[i][(div_point - (unique_perturb[idx][0] * stepLimit//interval)):] - orig[i, div_point: ((unique_perturb[idx][0] + 1) * stepLimit//interval)])))\n",
    "                else:\n",
    "                    potential_resultant.append(0)\n",
    "            else:\n",
    "                potential_resultant.append(0)\n",
    "        return potential_resultant\n",
    "    elif isinstance(idx, str) and idx == 'all':\n",
    "        idx = list(pickle.load(open(os.path.join(root_dir, f\"{game}/perturb_config.pkl\"), \"rb\")).keys())\n",
    "    else:\n",
    "        assert isinstance(idx, list), 'idx must be an integer or a list of integers'\n",
    "    with mp.Pool(mp.cpu_count()) as pool:\n",
    "        potential_resultant = pool.map(get_strength, [{'idx': i, 'game': game} for i in idx])\n",
    "        potential_resultant = iter(np.mean(potential_resultant, axis=-1).tolist())\n",
    "        potential_resultant = [next(potential_resultant) if i in idx else 0 for i in range(3510)]\n",
    "    return potential_resultant\n",
    "\n",
    "def plot_cause_effect(target_idx, save_dir=None):\n",
    "    games = ['DonkeyKong', 'Pitfall', 'SpaceInvaders']\n",
    "    effect = {game: get_strength({'idx': target_idx, 'game': game}) for game in games}\n",
    "    max_effect = np.max([_effect for t_effect in effect.values() for _effect in t_effect])\n",
    "    fig, axs = plt.subplots(1, len(games), figsize=(len(games)*10, 10), sharex=True, sharey=True)\n",
    "    cmap = get_cmap_slice(plt.get_cmap(\"Reds\"), 0.2, 1.0)\n",
    "    for idx, (game, _effect) in enumerate(effect.items()):\n",
    "        # Normalize the causal effect\n",
    "        if max_effect != 0:\n",
    "            causal_effect = np.array(_effect) / max_effect\n",
    "        else:\n",
    "            causal_effect = np.array(_effect)\n",
    "        # Heatmap of causal effect\n",
    "        im = axs[idx].scatter(ts_info.x, ts_info.y, c=causal_effect, cmap=cmap, edgecolor='none', vmin=0, vmax=1)\n",
    "        if not isinstance(target_idx, list) and not isinstance(target_idx, str):\n",
    "            axs[idx].scatter(ts_info.x.iloc[target_idx], ts_info.y.iloc[target_idx], c='blue', s=10**2, edgecolor='none')\n",
    "        axs[idx].tick_params(axis='x', labelsize=12)\n",
    "        axs[idx].tick_params(axis='y', labelsize=12)\n",
    "        axs[idx].set_title(game, fontdict={'family': 'Serif'}, fontsize=30)\n",
    "\n",
    "    fig.set_facecolor('w')\n",
    "    fig.subplots_adjust(bottom=0.1, top=0.9, left=0.1, right=0.8, wspace=0.05)\n",
    "    fig.text(0.45, 0.05, \"X Position (um)\", fontdict={'family': 'Serif'}, size=20)\n",
    "    fig.text(0.07, 0.5, \"Y Position (um)\", rotation='vertical', fontdict={'family': 'Serif'}, size=20)\n",
    "    cbar = fig.colorbar(im, cax=plt.axes([0.82, 0.1, 0.02, 0.8]))\n",
    "    cbar.set_label('Cause Effect Strength', fontdict={'family': 'Serif'}, size=20)\n",
    "    cbar.set_ticks(ticks=np.arange(0.0, 1.0, 0.1))\n",
    "    cbar.ax.tick_params(labelsize=10)\n",
    "    fig.clim = (0.0, 1.0)\n",
    "    if save_dir is not None:\n",
    "        plt.savefig(f\"{save_dir}.svg\")\n",
    "\n",
    "\n",
    "def plot_transistors(target_idx, save_dir=None):\n",
    "    fig = plt.figure(figsize=(10, 10))\n",
    "    # specific colors for target idx\n",
    "    cls = iter(['#DE1334', '#FF414C', '#6752FF'])\n",
    "    cmap = get_cmap_slice(plt.get_cmap(\"Reds\"), 0.2, 1.0)\n",
    "    c = [idx for idx in range(3510) if idx not in target_idx]\n",
    "    # Heatmap of causal effect\n",
    "    plt.scatter(ts_info.x[c], ts_info.y[c], c=[0]*len(c), cmap=cmap, edgecolor='none')\n",
    "    for idx in target_idx:\n",
    "        plt.scatter(ts_info.x[idx], ts_info.y[idx], c=next(cls), s=10**2, cmap=cmap, edgecolor='none', label=f'transistor {idx}')\n",
    "    if not isinstance(target_idx, list) and not isinstance(target_idx, str):\n",
    "        plt.scatter(ts_info.x.iloc[target_idx], ts_info.y.iloc[target_idx], c='blue', s=10**2, cmap=cmap, edgecolor='none')\n",
    "    plt.xticks([])\n",
    "    plt.yticks([])\n",
    "    fig.clim = (0.0, 1.0)\n",
    "    plt.legend()\n",
    "    if save_dir is not None:\n",
    "        plt.savefig(f\"{save_dir}.svg\")\n"
   ],
   "metadata": {
    "collapsed": false,
    "pycharm": {
     "name": "#%%\n"
    }
   }
  },
  {
   "cell_type": "code",
   "execution_count": null,
   "outputs": [],
   "source": [
    "plot_cause_effect(target_idx=990, save_dir='/home/charon/project/nmos_inference/figures/Figure 2. Causal Effect/transistor_990')"
   ],
   "metadata": {
    "collapsed": false,
    "pycharm": {
     "name": "#%%\n",
     "is_executing": true
    }
   }
  },
  {
   "cell_type": "code",
   "execution_count": null,
   "outputs": [],
   "source": [
    "plot_cause_effect(target_idx=3057, save_dir='/home/charon/project/nmos_inference/figures/Figure 2. Causal Effect/transistor_3057')"
   ],
   "metadata": {
    "collapsed": false,
    "pycharm": {
     "name": "#%%\n",
     "is_executing": true
    }
   }
  },
  {
   "cell_type": "code",
   "execution_count": null,
   "outputs": [],
   "source": [
    "plot_cause_effect(target_idx=1, save_dir='/home/charon/project/nmos_inference/figures/Figure 2. Causal Effect/transistor_1')"
   ],
   "metadata": {
    "collapsed": false,
    "pycharm": {
     "name": "#%%\n",
     "is_executing": true
    }
   }
  }
 ],
 "metadata": {
  "kernelspec": {
   "display_name": "Python 3",
   "language": "python",
   "name": "python3"
  },
  "language_info": {
   "codemirror_mode": {
    "name": "ipython",
    "version": 2
   },
   "file_extension": ".py",
   "mimetype": "text/x-python",
   "name": "python",
   "nbconvert_exporter": "python",
   "pygments_lexer": "ipython2",
   "version": "2.7.6"
  }
 },
 "nbformat": 4,
 "nbformat_minor": 0
}