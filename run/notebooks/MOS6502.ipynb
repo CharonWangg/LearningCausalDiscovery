{
 "cells": [
  {
   "cell_type": "code",
   "execution_count": 1,
   "metadata": {
    "collapsed": true,
    "pycharm": {
     "name": "#%%\n"
    }
   },
   "outputs": [],
   "source": [
    "import numpy as np\n",
    "import torch\n",
    "import pickle\n",
    "from tqdm.notebook import tqdm\n",
    "import matplotlib.pyplot as plt\n",
    "from torchmetrics.functional import auroc, average_precision\n",
    "from sklearn.metrics import roc_auc_score, average_precision_score\n",
    "\n",
    "import os\n",
    "import re\n",
    "import sys\n",
    "plt.style.use('bmh')\n",
    "plt.rcParams['svg.fonttype'] = 'none'\n",
    "os.chdir('/project/lcd_v2')\n",
    "\n",
    "from run.tools.cli.infer import prepare_inference"
   ]
  },
  {
   "cell_type": "code",
   "execution_count": 11,
   "outputs": [],
   "source": [
    "def collect_inferences(file_cfg=dict(), target_dir='.cache/sim_data/mos_auc_result'):\n",
    "    # get result from traditional method\n",
    "    # file name format: game={game}-method={method}-seed={seed}-note={note}.pkl\n",
    "    game = file_cfg.get('game', ['DonkeyKong'])\n",
    "    periods = file_cfg.get('period', '0_128')\n",
    "    method = file_cfg.get('method', ['corr', 'mi', 'gc', 'lingam'])\n",
    "    # seed = file_cfg.get('seed', [42])\n",
    "    note = file_cfg.get('note', ['default'])\n",
    "    result = {}\n",
    "\n",
    "    for _note in note:\n",
    "        result[_note] = {}\n",
    "        for _game in game:\n",
    "            result[_note][_game] = {}\n",
    "            for _method in method:\n",
    "                result[_note][_game][f'{_method}_score'] = {'auroc': {}, 'auprc': {}}\n",
    "                for window in periods:\n",
    "                    file_name = os.path.join(target_dir, f'game={_game}-window={window}-method={_method}-seed=42-note={_note}.pkl')\n",
    "                    file = pickle.load(open(file_name, 'rb'))\n",
    "                    if _method in ['mi', 'lingam', 'gc']:\n",
    "                        # directly calculate AUC (coeff, adjacency matrices)\n",
    "                        result[_note][_game][f'{_method}_score']['auroc'][window] = roc_auc_score(np.array(file[_method]['label']), np.array(file[_method]['pred']))\n",
    "                        result[_note][_game][f'{_method}_score']['auprc'][window] = average_precision_score(np.array(file[_method]['label']), np.array(file[_method]['pred']))\n",
    "                    elif _method in ['corr']:\n",
    "                        # calculate on the absolute value\n",
    "                        result[_note][_game][f'{_method}_score']['auroc'][window] = roc_auc_score(np.array(file[_method]['label']), np.abs(np.array(file[_method]['pred'])))\n",
    "                        result[_note][_game][f'{_method}_score']['auprc'][window] = average_precision_score(np.array(file[_method]['label']), np.abs(np.array(file[_method]['pred'])))\n",
    "\n",
    "    return result"
   ],
   "metadata": {
    "collapsed": false,
    "pycharm": {
     "name": "#%%\n"
    }
   }
  },
  {
   "cell_type": "code",
   "execution_count": 14,
   "outputs": [],
   "source": [
    "condition = 'default'\n",
    "games = ['DonkeyKong', 'Pitfall', 'SpaceInvaders']\n",
    "# collect inference result from traditional methods\n",
    "result = collect_inferences(file_cfg={'game': games,\n",
    "                                        'method': ['corr', 'mi', 'gc', 'lingam'],\n",
    "                                        'period': ['0_128', '128_256', '384_512', '512_640',\n",
    "                                                   '640_768'],\n",
    "                                        'note': [condition]}, target_dir='.cache/sim_data/mos_auc_result')\n",
    "result = result[condition]"
   ],
   "metadata": {
    "collapsed": false,
    "pycharm": {
     "name": "#%%\n"
    }
   }
  },
  {
   "cell_type": "code",
   "execution_count": 4,
   "outputs": [
    {
     "data": {
      "text/plain": "{'DonkeyKong': {'corr_score': {'auroc': {'0_128': 0.9775118201776011,\n    '128_256': 0.8844896055954927,\n    '384_512': 0.9229661691012045,\n    '512_640': 0.6225551885061088,\n    '640_768': 0.9438486002239641},\n   'auprc': {'0_128': 0.1772410654997663,\n    '128_256': 0.1177534096031724,\n    '384_512': 0.12028536759021562,\n    '512_640': 0.05012911913019164,\n    '640_768': 0.1882282317876899}},\n  'mi_score': {'auroc': {'0_128': 0.950590749381095,\n    '128_256': 0.8805906353215467,\n    '384_512': 0.9000803288945204,\n    '512_640': 0.6414445561551456,\n    '640_768': 0.9375659574468084},\n   'auprc': {'0_128': 0.1479700086682652,\n    '128_256': 0.15871293603306355,\n    '384_512': 0.0854565483799435,\n    '512_640': 0.04935941492798762,\n    '640_768': 0.19263126025508295}},\n  'gc_score': {'auroc': {'0_128': 0.8338648737018565,\n    '128_256': 0.8723201865164173,\n    '384_512': 0.9042625629851558,\n    '512_640': 0.5782254185161627,\n    '640_768': 0.8882642777155656},\n   'auprc': {'0_128': 0.24819362190409805,\n    '128_256': 0.14566887339999005,\n    '384_512': 0.09615782626146367,\n    '512_640': 0.041040007654499736,\n    '640_768': 0.11837165961117999}},\n  'lingam_score': {'auroc': {'0_128': 0.8850627208984891,\n    '128_256': 0.9018752671459102,\n    '384_512': 0.9057369041204578,\n    '512_640': 0.6524959362382675,\n    '640_768': 0.9081657334826427},\n   'auprc': {'0_128': 0.10168632353980912,\n    '128_256': 0.05822736888879048,\n    '384_512': 0.09131565690567066,\n    '512_640': 0.04537857664402618,\n    '640_768': 0.1021582688773364}}},\n 'Pitfall': {'corr_score': {'auroc': {'0_128': 0.9801950394178919,\n    '128_256': 0.8842269283077521,\n    '384_512': 0.9154898582303563,\n    '512_640': 0.5998001176382078,\n    '640_768': 0.9215489361702128},\n   'auprc': {'0_128': 0.1456540212034538,\n    '128_256': 0.11089225145012871,\n    '384_512': 0.06633366881245469,\n    '512_640': 0.050617362150686206,\n    '640_768': 0.17191875260390382}},\n  'mi_score': {'auroc': {'0_128': 0.9588921210925945,\n    '128_256': 0.8749578395181659,\n    '384_512': 0.8916329660309434,\n    '512_640': 0.6154715331495806,\n    '640_768': 0.9148309070548712},\n   'auprc': {'0_128': 0.10393334743983422,\n    '128_256': 0.1397721015217053,\n    '384_512': 0.06494389699760114,\n    '512_640': 0.05725577830579488,\n    '640_768': 0.1732184650499446}},\n  'gc_score': {'auroc': {'0_128': 0.8345930926566983,\n    '128_256': 0.8782848261122984,\n    '384_512': 0.8215336700436381,\n    '512_640': 0.6306497972108801,\n    '640_768': 0.8306696528555431},\n   'auprc': {'0_128': 0.20952599060240196,\n    '128_256': 0.18618644908760218,\n    '384_512': 0.06710918141824877,\n    '512_640': 0.049719431560510736,\n    '640_768': 0.1406716769792903}},\n  'lingam_score': {'auroc': {'0_128': 0.8762644086797212,\n    '128_256': 0.8949990285603263,\n    '384_512': 0.8933145438720107,\n    '512_640': 0.6588662959695235,\n    '640_768': 0.925452183650616},\n   'auprc': {'0_128': 0.02164378950904291,\n    '128_256': 0.05801642195571634,\n    '384_512': 0.027606395946268965,\n    '512_640': 0.04311822880056612,\n    '640_768': 0.05465817425773842}}},\n 'SpaceInvaders': {'corr_score': {'auroc': {'0_128': 0.9812330352555286,\n    '128_256': 0.8458169807654943,\n    '384_512': 0.8754122530182545,\n    '512_640': 0.6191887637273072,\n    '640_768': 0.9348219484882418},\n   'auprc': {'0_128': 0.1501119797436672,\n    '128_256': 0.072897272433014,\n    '384_512': 0.07037836760233561,\n    '512_640': 0.03975839750493684,\n    '640_768': 0.16830046920135736}},\n  'mi_score': {'auroc': {'0_128': 0.9547044566351289,\n    '128_256': 0.8547798717699632,\n    '384_512': 0.8612145649904177,\n    '512_640': 0.6392496688575643,\n    '640_768': 0.931796640537514},\n   'auprc': {'0_128': 0.11754426423156317,\n    '128_256': 0.0942919183599698,\n    '384_512': 0.06618069515854387,\n    '512_640': 0.03218025317437158,\n    '640_768': 0.19446572440884505}},\n  'gc_score': {'auroc': {'0_128': 0.8335018995323829,\n    '128_256': 0.8400225374004275,\n    '384_512': 0.8612491044413786,\n    '512_640': 0.5904885177357837,\n    '640_768': 0.8420264277715566},\n   'auprc': {'0_128': 0.1886301856014092,\n    '128_256': 0.124732296296451,\n    '384_512': 0.1097083962297632,\n    '512_640': 0.04609287127703017,\n    '640_768': 0.13622996309808616}},\n  'lingam_score': {'auroc': {'0_128': 0.916785819938862,\n    '128_256': 0.911962696716534,\n    '384_512': 0.8744540299644539,\n    '512_640': 0.659697286797847,\n    '640_768': 0.8807292273236282},\n   'auprc': {'0_128': 0.025222530784545043,\n    '128_256': 0.038954206527890924,\n    '384_512': 0.05973521380756365,\n    '512_640': 0.035028457163659044,\n    '640_768': 0.12575295801142172}}}}"
     },
     "execution_count": 4,
     "metadata": {},
     "output_type": "execute_result"
    }
   ],
   "source": [
    "result"
   ],
   "metadata": {
    "collapsed": false,
    "pycharm": {
     "name": "#%%\n"
    }
   }
  },
  {
   "cell_type": "code",
   "execution_count": 10,
   "outputs": [
    {
     "data": {
      "text/plain": "1361"
     },
     "execution_count": 10,
     "metadata": {},
     "output_type": "execute_result"
    }
   ],
   "source": [
    "# round all the floating number in the res to 2 decimal places\n",
    "games = [\"Donkey Kong\", \"Pitfall\", \"Space Invaders\"]\n",
    "pre_fix = \"\"\n",
    "for game in games:\n",
    "    pre_fix += f\"\\multirow{{2}}{{*}}{{{game}}} & \"\n",
    "    methods = ['corr', 'mi', 'lingam', 'gc']\n",
    "\n",
    "    for period  in ['0_128', '128_256', '384_512', '512_640', '640_768']:\n",
    "        start, end = period.split('_')\n",
    "        pre_fix += f\"[{start}, {end}] & \"\n",
    "        game = game.replace(' ', '')\n",
    "        for method in methods:\n",
    "            pre_fix += f\"{result[game][f'{method}_score']['auroc'][period]:.2f} & \"\n",
    "        pre_fix += \"[TRM]\"\n",
    "        pre_fix += \"& \"\n",
    "        for method in methods:\n",
    "            pre_fix += f\"{result[game][f'{method}_score']['auprc'][period]:.2f} & \"\n",
    "        pre_fix += \"[TRM]\"\n",
    "\n",
    "        pre_fix += f\"\\\\\\\\ \\n\"\n",
    "\n",
    "open(\"score_transformer.txt\", \"w\").write(pre_fix)\n"
   ],
   "metadata": {
    "collapsed": false,
    "pycharm": {
     "name": "#%%\n"
    }
   }
  },
  {
   "cell_type": "code",
   "execution_count": 50,
   "outputs": [
    {
     "data": {
      "text/plain": "{'DonkeyKong': {'corr': {'auroc': 0.8602197106025296,\n   'auprc': 0.07719992292923179,\n   'auroc_std': 0.13530933109802226,\n   'auprc_std': 0.02231606928066377},\n  'mi': {'auroc': 0.8460670807674558,\n   'auprc': 0.05431754180995121,\n   'auroc_std': 0.12693344826040118,\n   'auprc_std': 0.01999384970551608},\n  'gc': {'auroc': 0.7913097481946411,\n   'auprc': 0.08471494019103284,\n   'auroc_std': 0.10885719852827942,\n   'auprc_std': 0.02492775327523892},\n  'lingam': {'auroc': 0.8282069479133296,\n   'auprc': 0.03852301788807668,\n   'auroc_std': 0.10926376294781275,\n   'auprc_std': 0.007839911941701765}},\n 'Pitfall': {'corr': {'auroc': 0.8467219463969442,\n   'auprc': 0.07287619081649578,\n   'auroc_std': 0.12394286145923737,\n   'auprc_std': 0.02464053869427586},\n  'mi': {'auroc': 0.8390113290484343,\n   'auprc': 0.05833093440673385,\n   'auroc_std': 0.11764846496977396,\n   'auprc_std': 0.02582513880909912},\n  'gc': {'auroc': 0.7853383986341976,\n   'auprc': 0.08556360868167738,\n   'auroc_std': 0.10165343205410404,\n   'auprc_std': 0.023465752069386572},\n  'lingam': {'auroc': 0.8212394596714804,\n   'auprc': 0.024180725473319002,\n   'auroc_std': 0.10483836964078526,\n   'auprc_std': 0.01057552663742436}},\n 'SpaceInvaders': {'corr': {'auroc': 0.8506307667091104,\n   'auprc': 0.06036822328550044,\n   'auroc_std': 0.1283757321035864,\n   'auprc_std': 0.017581167733059778},\n  'mi': {'auroc': 0.8400915847438274,\n   'auprc': 0.04937919722377175,\n   'auroc_std': 0.12261170250601701,\n   'auprc_std': 0.016865910420294478},\n  'gc': {'auroc': 0.7833733915221777,\n   'auprc': 0.08055702402255249,\n   'auroc_std': 0.1036350026160477,\n   'auprc_std': 0.02023265269249038},\n  'lingam': {'auroc': 0.8289123661772055,\n   'auprc': 0.02850801541943237,\n   'auroc_std': 0.10808126993163515,\n   'auprc_std': 0.01208377709380114}}}"
     },
     "execution_count": 50,
     "metadata": {},
     "output_type": "execute_result"
    }
   ],
   "source": [
    "\n",
    "def get_stat(result, games=['DonkeyKong', 'Pitfall', 'SpaceInvaders']):\n",
    "    stat = {}\n",
    "    for game in games:\n",
    "        stat[game] = {}\n",
    "        for method in ['corr', 'mi', 'gc', 'lingam']:\n",
    "            stat[game][method] ={}\n",
    "            # average across all the periods\n",
    "            stat[game][method]['auroc'] = np.mean(list(result[game][f'{method}_score']['auroc'].values()))\n",
    "            stat[game][method]['auprc'] = np.mean(list(result[game][f'{method}_score']['auprc'].values()))\n",
    "            # standard deviation across all the periods\n",
    "            stat[game][method]['auroc_std'] = np.std(list(result[game][f'{method}_score']['auroc'].values()))\n",
    "            stat[game][method]['auprc_std'] = np.std(list(result[game][f'{method}_score']['auprc'].values()))\n",
    "    return stat\n",
    "stat = get_stat(result)\n",
    "stat"
   ],
   "metadata": {
    "collapsed": false,
    "pycharm": {
     "name": "#%%\n"
    }
   }
  },
  {
   "cell_type": "code",
   "execution_count": 15,
   "outputs": [],
   "source": [
    "condition = ['0.1noise', '0.05noise', '0.03noise']\n",
    "games = ['DonkeyKong']\n",
    "# collect inference result from traditional methods\n",
    "noise_result = collect_inferences(file_cfg={'game': games,\n",
    "                                        'method': ['corr', 'mi', 'gc', 'lingam'],\n",
    "                                        'period': ['0_128', '128_256', '384_512', '512_640',\n",
    "                                                   '640_768'],\n",
    "                                        'note': condition}, target_dir='.cache/sim_data/mos_auc_result')\n",
    "noise_result = {key: value['DonkeyKong'] for key, value in noise_result.items()}"
   ],
   "metadata": {
    "collapsed": false,
    "pycharm": {
     "name": "#%%\n"
    }
   }
  },
  {
   "cell_type": "code",
   "execution_count": 17,
   "outputs": [
    {
     "data": {
      "text/plain": "{'0.1noise': {'corr_score': {'auroc': {'0_128': 0.9742810581329567,\n    '128_256': 0.8893017291626191,\n    '384_512': 0.9192872241531419,\n    '512_640': 0.6253793034267827,\n    '640_768': 0.9430333706606944},\n   'auprc': {'0_128': 0.15055168963111748,\n    '128_256': 0.13697317401620362,\n    '384_512': 0.11933212183674756,\n    '512_640': 0.0471719375506415,\n    '640_768': 0.176734207124657}},\n  'mi_score': {'auroc': {'0_128': 0.9589323434313028,\n    '128_256': 0.8844227705459491,\n    '384_512': 0.8942253985359221,\n    '512_640': 0.6292347474996182,\n    '640_768': 0.9296430011198208},\n   'auprc': {'0_128': 0.13967449047182273,\n    '128_256': 0.14658002537615814,\n    '384_512': 0.08814849677932653,\n    '512_640': 0.051925541089196565,\n    '640_768': 0.19909197955120872}},\n  'gc_score': {'auroc': {'0_128': 0.9829334021870573,\n    '128_256': 0.9081064697882262,\n    '384_512': 0.9277286659679829,\n    '512_640': 0.6007409668219217,\n    '640_768': 0.9530875699888017},\n   'auprc': {'0_128': 0.23240460778907032,\n    '128_256': 0.1278469230732315,\n    '384_512': 0.12694661967756066,\n    '512_640': 0.03868812393116021,\n    '640_768': 0.10794458881058216}},\n  'lingam_score': {'auroc': {'0_128': 0.8968673285620126,\n    '128_256': 0.8626026811734991,\n    '384_512': 0.8827494192438031,\n    '512_640': 0.608777012901446,\n    '640_768': 0.9556425531914894},\n   'auprc': {'0_128': 0.07381588986679813,\n    '128_256': 0.043933826458711044,\n    '384_512': 0.07517227943835933,\n    '512_640': 0.029130664095084895,\n    '640_768': 0.1177535819493068}}},\n '0.05noise': {'corr_score': {'auroc': {'0_128': 0.9770161771651296,\n    '128_256': 0.8845160287546143,\n    '384_512': 0.9226543272011005,\n    '512_640': 0.6231593382166869,\n    '640_768': 0.9436855543113103},\n   'auprc': {'0_128': 0.17908961797392242,\n    '128_256': 0.1352503071981837,\n    '384_512': 0.1363916855114625,\n    '512_640': 0.04608862897520902,\n    '640_768': 0.18695378625614575}},\n  'mi_score': {'auroc': {'0_128': 0.9565361949148584,\n    '128_256': 0.885668544783369,\n    '384_512': 0.8873984293431386,\n    '512_640': 0.6256272327891427,\n    '640_768': 0.9321791713325868},\n   'auprc': {'0_128': 0.11414575153748295,\n    '128_256': 0.15916550381671407,\n    '384_512': 0.08348590982026652,\n    '512_640': 0.04781184828954575,\n    '640_768': 0.15936035982021526}},\n  'gc_score': {'auroc': {'0_128': 0.9430542508524541,\n    '128_256': 0.8408307752088596,\n    '384_512': 0.9154109109138744,\n    '512_640': 0.5110402660082575,\n    '640_768': 0.9108980963045913},\n   'auprc': {'0_128': 0.2564226380058689,\n    '128_256': 0.11812959701373749,\n    '384_512': 0.1307951183275708,\n    '512_640': 0.030916890867229485,\n    '640_768': 0.11074983600891095}},\n  'lingam_score': {'auroc': {'0_128': 0.9213536503718621,\n    '128_256': 0.8762665630464348,\n    '384_512': 0.9169691335729384,\n    '512_640': 0.577663160318535,\n    '640_768': 0.9574808510638299},\n   'auprc': {'0_128': 0.11845491006437045,\n    '128_256': 0.10956675331321497,\n    '384_512': 0.11153995555170448,\n    '512_640': 0.047398287738291904,\n    '640_768': 0.3018612546566433}}},\n '0.03noise': {'corr_score': {'auroc': {'0_128': 0.9773807732030995,\n    '128_256': 0.8847445113658442,\n    '384_512': 0.9228536691752176,\n    '512_640': 0.6229208130715199,\n    '640_768': 0.9437464725643896},\n   'auprc': {'0_128': 0.16621997083403114,\n    '128_256': 0.13034349757510894,\n    '384_512': 0.12977800585763613,\n    '512_640': 0.04893046911625033,\n    '640_768': 0.1829276753048927}},\n  'mi_score': {'auroc': {'0_128': 0.9505294427519346,\n    '128_256': 0.8806644647367399,\n    '384_512': 0.9001020394065531,\n    '512_640': 0.6414244653275061,\n    '640_768': 0.9375955207166853},\n   'auprc': {'0_128': 0.14675545443338947,\n    '128_256': 0.1605330975634622,\n    '384_512': 0.10917194669506984,\n    '512_640': 0.04611228537111002,\n    '640_768': 0.18932789630453403}},\n  'gc_score': {'auroc': {'0_128': 0.8694405591683577,\n    '128_256': 0.8545925782008937,\n    '384_512': 0.8507412166176206,\n    '512_640': 0.4608196088757572,\n    '640_768': 0.7528215005599104},\n   'auprc': {'0_128': 0.25186674852901886,\n    '128_256': 0.08901731911412167,\n    '384_512': 0.08876521131333845,\n    '512_640': 0.02596473451875265,\n    '640_768': 0.09105775262699878}},\n  'lingam_score': {'auroc': {'0_128': 0.9423445211984701,\n    '128_256': 0.8487802603458325,\n    '384_512': 0.9211257097857173,\n    '512_640': 0.5725327323753571,\n    '640_768': 0.9459045912653975},\n   'auprc': {'0_128': 0.21291144719012803,\n    '128_256': 0.1922685664566072,\n    '384_512': 0.1684792012908812,\n    '512_640': 0.05703539904970202,\n    '640_768': 0.2890252894193748}}}}"
     },
     "execution_count": 17,
     "metadata": {},
     "output_type": "execute_result"
    }
   ],
   "source": [
    "noise_result"
   ],
   "metadata": {
    "collapsed": false,
    "pycharm": {
     "name": "#%%\n"
    }
   }
  },
  {
   "cell_type": "code",
   "execution_count": 20,
   "outputs": [
    {
     "data": {
      "text/plain": "1400"
     },
     "execution_count": 20,
     "metadata": {},
     "output_type": "execute_result"
    }
   ],
   "source": [
    "# round all the floating number in the res to 2 decimal places\n",
    "games = [\"0.03noise\", \"0.05noise\", \"0.1noise\"]\n",
    "pre_fix = \"\"\n",
    "for game in games:\n",
    "    pre_fix += f\"\\multirow{{5}}{{*}}{{{game}}} & \"\n",
    "    methods = ['corr', 'mi', 'lingam', 'gc']\n",
    "\n",
    "    for period  in ['0_128', '128_256', '384_512', '512_640', '640_768']:\n",
    "        start, end = period.split('_')\n",
    "        pre_fix += f\"& [{start}, {end}] & \"\n",
    "        game = game.replace(' ', '')\n",
    "        for method in methods:\n",
    "            pre_fix += f\"{noise_result[game][f'{method}_score']['auroc'][period]:.2f} & \"\n",
    "        pre_fix += \"[TRM]\"\n",
    "        pre_fix += \"& \"\n",
    "        for method in methods:\n",
    "            pre_fix += f\"{noise_result[game][f'{method}_score']['auprc'][period]:.2f} & \"\n",
    "        pre_fix += \"[TRM]\"\n",
    "\n",
    "        pre_fix += f\"\\\\\\\\  \\n\"\n",
    "\n",
    "open(\"score_transformer.txt\", \"w\").write(pre_fix)\n"
   ],
   "metadata": {
    "collapsed": false,
    "pycharm": {
     "name": "#%%\n"
    }
   }
  },
  {
   "cell_type": "code",
   "execution_count": null,
   "outputs": [],
   "source": [],
   "metadata": {
    "collapsed": false,
    "pycharm": {
     "name": "#%%\n"
    }
   }
  }
 ],
 "metadata": {
  "kernelspec": {
   "display_name": "Python 3",
   "language": "python",
   "name": "python3"
  },
  "language_info": {
   "codemirror_mode": {
    "name": "ipython",
    "version": 2
   },
   "file_extension": ".py",
   "mimetype": "text/x-python",
   "name": "python",
   "nbconvert_exporter": "python",
   "pygments_lexer": "ipython2",
   "version": "2.7.6"
  }
 },
 "nbformat": 4,
 "nbformat_minor": 0
}