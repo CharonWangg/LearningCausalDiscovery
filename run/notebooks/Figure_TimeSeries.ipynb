{
 "cells": [
  {
   "cell_type": "code",
   "execution_count": 35,
   "outputs": [],
   "source": [
    "import os\n",
    "import numpy as np\n",
    "import pandas as pd\n",
    "import matplotlib.pyplot as plt\n",
    "import tsaug\n",
    "from PIL import Image\n",
    "import brewer2mpl\n",
    "import matplotlib.pyplot as plt\n",
    "import pickle\n",
    "plt.style.use('bmh')\n",
    "\n",
    "os.chdir('project/learning_causal_discovery/')"
   ],
   "metadata": {
    "collapsed": false,
    "pycharm": {
     "name": "#%%\n"
    }
   }
  },
  {
   "cell_type": "code",
   "execution_count": 36,
   "outputs": [],
   "source": [
    "root_dir = '.cache/sim_data/'"
   ],
   "metadata": {
    "collapsed": false,
    "pycharm": {
     "name": "#%%\n"
    }
   }
  },
  {
   "cell_type": "code",
   "execution_count": 48,
   "outputs": [],
   "source": [
    "# helper functions\n",
    "\n",
    "def plot_seqs(seqs, plot_kwargs={}, save_dir=None):\n",
    "    fig, axs = plt.subplots(seqs.shape[0], 1, sharex=True, sharey=True, figsize=(12, seqs.shape[0]*3))\n",
    "    fig.canvas.manager.set_window_title('Eldorado K-8 Fitness Chart')\n",
    "    ticks = plot_kwargs.pop('ticks', True)\n",
    "\n",
    "    # for i, game in enumerate(games):\n",
    "    for j, target_seq in enumerate(seqs):\n",
    "        if plot_kwargs.get('c', None) is None:\n",
    "            c = brewer2mpl.get_map('Set1', 'qualitative', 9).mpl_colors[j]\n",
    "        else:\n",
    "            c = plot_kwargs['c'][j]\n",
    "        if plot_kwargs.get('labels', None) is None:\n",
    "            label = j\n",
    "        else:\n",
    "            label = plot_kwargs['labels'][j]\n",
    "        axs[j].plot(target_seq[:], c=c, label=label)\n",
    "\n",
    "        if axs[j].get_subplotspec().is_last_row():\n",
    "            if ticks:\n",
    "                axs[j].set_xlabel(\"Time (half clock)\", fontdict={'family': 'Serif'}, fontsize='14')\n",
    "                axs[j].set_xticks(ticks=np.arange(0, len(target_seq), 100000), labels=np.arange(0, (len(target_seq)//2000), 50))\n",
    "            else:\n",
    "                axs[j].set_xticks([])\n",
    "                axs[j].set_yticks([])\n",
    "        else:\n",
    "            axs[j].set_xticks([])\n",
    "            if not ticks:\n",
    "               axs[j].set_yticks([])\n",
    "        if ticks:\n",
    "            axs[j].tick_params(labelsize=12)\n",
    "            axs[j].legend(loc='lower right', bbox_to_anchor=(0.85, 0.05), prop={'family': 'Serif', 'size': 14}, labelcolor='black')\n",
    "\n",
    "    if ticks:\n",
    "        fig.text(0.09, 0.4, 'Voltage (digital)', ha='center', fontdict={'family': 'Serif'}, rotation='vertical', fontsize=14)\n",
    "\n",
    "    if save_dir is not None:\n",
    "        plt.savefig(f\"{save_dir}.svg\")\n",
    "\n",
    "def plot_pair(meta_data, idx_pair, causal=False, zoom=False, save_dir=None):\n",
    "    if causal:\n",
    "        cls = iter(['#DE1334', '#FF414C'])\n",
    "    else:\n",
    "        cls = iter(['#DE1334', '#6752FF'])\n",
    "\n",
    "    fig, axs = plt.subplots(2, 1, sharex=True, sharey=True, figsize=(12, 6))\n",
    "    # add gaussian noise\n",
    "    seed = 42\n",
    "    np.random.seed(seed)\n",
    "\n",
    "    # for i, game in enumerate(games):\n",
    "    pair = np.stack((meta_data[idx_pair[0]], meta_data[idx_pair[1]]), axis=-1)\n",
    "    for j, target_seq in enumerate([pair[:, 0], pair[:, 1]]):\n",
    "        # j = i * 2 + j\n",
    "        c = next(cls)\n",
    "        if not zoom:\n",
    "            axs[j].plot(target_seq[:], c=c, label=f\"Transistor {idx_pair[j]}\")\n",
    "        else:\n",
    "            zoom_point = pickle.load(open(os.path.join(root_dir, \"DonkeyKong/perturb_config.pkl\"), \"rb\"), encoding='latin1')[cause_idx][0]\n",
    "            axs[j].plot(target_seq[zoom_point*2000:(zoom_point+1)*2000], c=c, label=f\"Transistor {idx_pair[j]}\")\n",
    "\n",
    "        if axs[j].get_subplotspec().is_last_row():\n",
    "            if not zoom:\n",
    "                axs[j].set_xlabel(\"Time (half clock)\", fontdict={'family': 'Serif'}, fontsize='14')\n",
    "                axs[j].set_xticks(ticks=np.arange(0, len(target_seq), 100000), labels=np.arange(0, (len(target_seq)//2000), 50))\n",
    "            else:\n",
    "                axs[j].set_xlabel(\"Time (iteration)\", fontdict={'family': 'Serif'}, fontsize='14')\n",
    "                axs[j].set_xticks(np.arange(0, 2000, 200), labels=np.arange(0, 2000, 200))\n",
    "        else:\n",
    "            axs[j].set_xticks([])\n",
    "        axs[j].tick_params(labelsize=12)\n",
    "        axs[j].legend(loc='lower right', bbox_to_anchor=(0.85, 0.05), prop={'family': 'Serif', 'size': 14}, labelcolor='black')\n",
    "\n",
    "    fig.text(0.09, 0.4, 'Voltage (digital)', ha='center', fontdict={'family': 'Serif'}, rotation='vertical', fontsize=14)\n",
    "    if save_dir is not None:\n",
    "        plt.savefig(f\"{save_dir}.svg\")\n",
    "\n",
    "def plot_naive_seqs(seqs, plot_kwargs={'c': ['#DE1334', '#6752FF']}, save_dir=None):\n",
    "    plt.figure(figsize=(12, 3))\n",
    "\n",
    "    # for i, game in enumerate(games):\n",
    "    for j, target_seq in enumerate(seqs):\n",
    "        if plot_kwargs.get('c', None) is None:\n",
    "            c = brewer2mpl.get_map('Set1', 'qualitative', 9).mpl_colors[j]\n",
    "        else:\n",
    "            c = plot_kwargs['c'][j]\n",
    "        if plot_kwargs.get('labels', None) is None:\n",
    "            label = j\n",
    "        else:\n",
    "            label = plot_kwargs['labels'][j]\n",
    "        plt.plot(target_seq[:], c=c, label=label)\n",
    "\n",
    "        plt.xticks([])\n",
    "        plt.yticks([])\n",
    "\n",
    "    if save_dir is not None:\n",
    "        plt.savefig(f\"{save_dir}.svg\")\n",
    "\n",
    "\n",
    "def crop_image(img, save_path, num=9):\n",
    "    im = Image.open(img)\n",
    "    width, height = round(im.size[0] / num), im.size[1]\n",
    "    for j in range(num):\n",
    "        box = (j * width, 0, min((j + 1) * width, im.size[0]), height)\n",
    "        im.crop(box).save(save_path + f'patch_{j}.svg')\n"
   ],
   "metadata": {
    "collapsed": false,
    "pycharm": {
     "name": "#%%\n"
    }
   }
  },
  {
   "cell_type": "code",
   "execution_count": 49,
   "outputs": [],
   "source": [
    "game = 'DonkeyKong'\n",
    "meta_data = np.load(os.path.join(root_dir, f'{game}/HR/Regular_3510_step_256_rec_2e3.npy'), mmap_mode='r')\n",
    "df = pd.read_csv(os.path.join(root_dir, f'{game}/csv/fold_seed_42/test_sim_grouped.csv'))"
   ],
   "metadata": {
    "collapsed": false,
    "pycharm": {
     "name": "#%%\n"
    }
   }
  },
  {
   "cell_type": "code",
   "execution_count": 50,
   "outputs": [],
   "source": [
    "positive = df[df['label'] == 1]\n",
    "negative = df[df['label'] == 0]"
   ],
   "metadata": {
    "collapsed": false,
    "pycharm": {
     "name": "#%%\n"
    }
   }
  },
  {
   "cell_type": "markdown",
   "source": [
    "### Causal Pairs Demo"
   ],
   "metadata": {
    "collapsed": false,
    "pycharm": {
     "name": "#%% md\n"
    }
   }
  },
  {
   "cell_type": "code",
   "execution_count": null,
   "outputs": [],
   "source": [
    "# positive pair\n",
    "cause_idx = 990\n",
    "effect_idx = 1\n",
    "plot_pair(meta_data, [cause_idx, effect_idx], causal=True, zoom=False, save_dir='./figures/Figure 1. Causal Pair Demo/transistor_pair_990&1')"
   ],
   "metadata": {
    "collapsed": false,
    "pycharm": {
     "name": "#%%\n",
     "is_executing": true
    }
   }
  },
  {
   "cell_type": "code",
   "execution_count": null,
   "outputs": [],
   "source": [
    "plot_pair(meta_data, [cause_idx, effect_idx], causal=True, zoom=True, save_dir='./figures/Figure 1. Causal Pair Demo/transistor_pair_990&1_zoom')"
   ],
   "metadata": {
    "collapsed": false,
    "pycharm": {
     "name": "#%%\n",
     "is_executing": true
    }
   }
  },
  {
   "cell_type": "code",
   "execution_count": null,
   "outputs": [],
   "source": [
    "# negative pair\n",
    "cause_idx = 321\n",
    "effect_idx = 64\n",
    "plot_pair(meta_data, [cause_idx, effect_idx], causal=False, zoom=False,save_dir='./figures/Figure 1. Causal Pair Demo/transistor_pair_321&64')"
   ],
   "metadata": {
    "collapsed": false,
    "pycharm": {
     "name": "#%%\n",
     "is_executing": true
    }
   }
  },
  {
   "cell_type": "code",
   "execution_count": null,
   "outputs": [],
   "source": [
    "cause_idx = 990\n",
    "effect_idx = 0\n",
    "plot_pair(meta_data, [cause_idx, effect_idx], causal=False, zoom=True, save_dir='./figures/Figure 1. Causal Pair Demo/transistor_pair_990&0_zoom')"
   ],
   "metadata": {
    "collapsed": false,
    "pycharm": {
     "name": "#%%\n",
     "is_executing": true
    }
   }
  },
  {
   "cell_type": "code",
   "execution_count": null,
   "outputs": [],
   "source": [
    "plot_naive_seqs(meta_data[[990, 0]].astype(np.float32), plot_kwargs={'c': ['#DE1334', '#6752FF']}, save_dir='./figures/Figure 3. Architecture/input')"
   ],
   "metadata": {
    "collapsed": false,
    "pycharm": {
     "name": "#%%\n",
     "is_executing": true
    }
   }
  },
  {
   "cell_type": "markdown",
   "source": [
    "### Noised Pairs Demo"
   ],
   "metadata": {
    "collapsed": false,
    "pycharm": {
     "name": "#%% md\n"
    }
   }
  },
  {
   "cell_type": "code",
   "execution_count": null,
   "outputs": [],
   "source": [
    "target_seq = meta_data[cause_idx].astype(np.float32)\n",
    "seqs  = np.stack([tsaug.AddNoise(scale=scale, normalize=False, seed=42).augment(target_seq) for scale in [0.1, 0.3, 0.5]])[:, ::100]\n",
    "\n",
    "plot_seqs(seqs, plot_kwargs={'labels': ['Noise Scale 0.1', 'Noise Scale 0.3', 'Noise Scale 0.5']},\n",
    "          save_dir='./figures/Figure 4. Methods/noise_demo/noise_demo')\n"
   ],
   "metadata": {
    "collapsed": false,
    "pycharm": {
     "name": "#%%\n",
     "is_executing": true
    }
   }
  },
  {
   "cell_type": "markdown",
   "source": [
    "### Perturbation Demo"
   ],
   "metadata": {
    "collapsed": false,
    "pycharm": {
     "name": "#%% md\n"
    }
   }
  },
  {
   "cell_type": "code",
   "execution_count": 58,
   "outputs": [],
   "source": [
    "game = 'DonkeyKong'\n",
    "idx = 990\n",
    "unique_perturb = pickle.load(open(os.path.join(root_dir, f\"{game}/perturb_config.pkl\"), \"rb\"), encoding='latin1')\n",
    "orig = np.load(os.path.join(root_dir, f'{game}/HR/Regular_3510_step_256_rec_2e3.npy'), mmap_mode='r')\n",
    "potential_resultant = []\n",
    "perturb = np.load(os.path.join(root_dir, f\"{game}/HR/Adaptive_3510_step_256_tidx_{idx}.npy\"), mmap_mode='r')\n",
    "padded_perturb = np.concatenate(\n",
    "    (perturb[:, :-1], np.tile(perturb[:, -2].reshape(-1, 1), 2000 - perturb.shape[1] + 1)), axis=1)"
   ],
   "metadata": {
    "collapsed": false,
    "pycharm": {
     "name": "#%%\n"
    }
   }
  },
  {
   "cell_type": "code",
   "execution_count": null,
   "outputs": [],
   "source": [
    "idxs = [0, 1, 1207, 3057, 990]\n",
    "plot_seqs(orig[idxs, unique_perturb[idx][0]*2000:(unique_perturb[idx][0]+1)*2000], plot_kwargs={'labels': idxs, 'ticks': False})"
   ],
   "metadata": {
    "collapsed": false,
    "pycharm": {
     "name": "#%%\n",
     "is_executing": true
    }
   }
  }
 ],
 "metadata": {
  "kernelspec": {
   "name": "conda-env-ml37-py",
   "language": "python",
   "display_name": "Python [conda env:ml37]"
  },
  "language_info": {
   "codemirror_mode": {
    "name": "ipython",
    "version": 2
   },
   "file_extension": ".py",
   "mimetype": "text/x-python",
   "name": "python",
   "nbconvert_exporter": "python",
   "pygments_lexer": "ipython2",
   "version": "2.7.6"
  }
 },
 "nbformat": 4,
 "nbformat_minor": 0
}