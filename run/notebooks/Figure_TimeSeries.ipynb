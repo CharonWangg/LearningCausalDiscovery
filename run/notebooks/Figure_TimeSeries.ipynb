{
 "cells": [
  {
   "cell_type": "code",
   "execution_count": 2,
   "outputs": [],
   "source": [
    "import os\n",
    "import numpy as np\n",
    "import pandas as pd\n",
    "import matplotlib.pyplot as plt\n",
    "import tsaug\n",
    "from PIL import Image\n",
    "import brewer2mpl\n",
    "import matplotlib.pyplot as plt\n",
    "import pickle\n",
    "plt.style.use('bmh')\n",
    "\n",
    "os.chdir('/project/lcd_v2/')"
   ],
   "metadata": {
    "collapsed": false,
    "pycharm": {
     "name": "#%%\n"
    }
   }
  },
  {
   "cell_type": "code",
   "execution_count": null,
   "outputs": [],
   "source": [
    "step_limit = 30\n",
    "root_dir = '.cache/sim_data/'"
   ],
   "metadata": {
    "collapsed": false,
    "pycharm": {
     "name": "#%%\n"
    }
   }
  },
  {
   "cell_type": "code",
   "execution_count": null,
   "outputs": [],
   "source": [
    "# helper functions\n",
    "\n",
    "def plot_seqs(seqs, plot_kwargs={}, save_dir=None):\n",
    "    fig, axs = plt.subplots(seqs.shape[0], 1, sharex=True, sharey=True, figsize=(12, seqs.shape[0]*3))\n",
    "    fig.canvas.manager.set_window_title('Eldorado K-8 Fitness Chart')\n",
    "    ticks = plot_kwargs.pop('ticks', True)\n",
    "\n",
    "    # for i, game in enumerate(games):\n",
    "    for j, target_seq in enumerate(seqs):\n",
    "        if plot_kwargs.get('c', None) is None:\n",
    "            c = brewer2mpl.get_map('Set1', 'qualitative', 9).mpl_colors[j]\n",
    "        else:\n",
    "            c = plot_kwargs['c'][j]\n",
    "        if plot_kwargs.get('labels', None) is None:\n",
    "            label = j\n",
    "        else:\n",
    "            label = plot_kwargs['labels'][j]\n",
    "        axs[j].plot(target_seq[:], c=c, label=label)\n",
    "\n",
    "        if axs[j].get_subplotspec().is_last_row():\n",
    "            if ticks:\n",
    "                axs[j].set_xlabel(\"Time (half clock)\", fontdict={'family': 'Serif'}, fontsize='14')\n",
    "                axs[j].set_xticks(ticks=np.arange(0, len(target_seq), step_limit*50), labels=np.arange(0, (len(target_seq)//step_limit), step_limit//40))\n",
    "            else:\n",
    "                axs[j].set_xticks([])\n",
    "                axs[j].set_yticks([])\n",
    "        else:\n",
    "            axs[j].set_xticks([])\n",
    "            if not ticks:\n",
    "               axs[j].set_yticks([])\n",
    "        if ticks:\n",
    "            axs[j].tick_params(labelsize=12)\n",
    "            axs[j].legend(loc='lower right', bbox_to_anchor=(0.85, 0.05), prop={'family': 'Serif', 'size': 14}, labelcolor='black')\n",
    "\n",
    "    if ticks:\n",
    "        fig.text(0.09, 0.4, 'Voltage (digital)', ha='center', fontdict={'family': 'Serif'}, rotation='vertical', fontsize=14)\n",
    "\n",
    "    if save_dir is not None:\n",
    "        plt.savefig(f\"{save_dir}.svg\")\n",
    "\n",
    "def plot_pair(meta_data, idx_pair, causal=False, zoom=False, save_dir=None):\n",
    "    if causal:\n",
    "        cls = iter(['#DE1334', '#FF414C'])\n",
    "    else:\n",
    "        cls = iter(['#DE1334', '#6752FF'])\n",
    "\n",
    "    fig, axs = plt.subplots(2, 1, sharex=True, sharey=True, figsize=(12, 6))\n",
    "    # add gaussian noise\n",
    "    seed = 42\n",
    "    np.random.seed(seed)\n",
    "\n",
    "    # for i, game in enumerate(games):\n",
    "    pair = np.stack((meta_data[idx_pair[0]], meta_data[idx_pair[1]]), axis=-1)\n",
    "    for j, target_seq in enumerate([pair[:, 0], pair[:, 1]]):\n",
    "        # j = i * 2 + j\n",
    "        c = next(cls)\n",
    "        if not zoom:\n",
    "            axs[j].plot(target_seq[:], c=c, label=f\"Transistor {idx_pair[j]}\")\n",
    "        else:\n",
    "            start_value = meta_data[idx_pair[0]][0]\n",
    "            zoom_point = np.where(meta_data[idx_pair[0]]!=start_value)[0][0]//step_limit\n",
    "            axs[j].plot(target_seq[zoom_point*step_limit:int((zoom_point+1)*step_limit)], c=c, label=f\"Transistor {idx_pair[j]}\")\n",
    "\n",
    "        if axs[j].get_subplotspec().is_last_row():\n",
    "            if not zoom:\n",
    "                axs[j].set_xlabel(\"Time (half clock)\", fontdict={'family': 'Serif'}, fontsize='14')\n",
    "                axs[j].set_xticks(ticks=np.arange(0, len(target_seq), step_limit*50), labels=np.arange(0, (len(target_seq)//step_limit), 50))\n",
    "            else:\n",
    "                axs[j].set_xlabel(\"Time (iteration)\", fontdict={'family': 'Serif'}, fontsize='14')\n",
    "                axs[j].set_xticks(np.arange(0, step_limit, 5), labels=np.arange(0, step_limit, 5))\n",
    "        else:\n",
    "            axs[j].set_xticks([])\n",
    "        axs[j].tick_params(labelsize=12)\n",
    "        axs[j].legend(loc='lower right', bbox_to_anchor=(0.85, 0.05), prop={'family': 'Serif', 'size': 14}, labelcolor='black')\n",
    "\n",
    "    fig.text(0.09, 0.4, 'Voltage (digital)', ha='center', fontdict={'family': 'Serif'}, rotation='vertical', fontsize=14)\n",
    "    if save_dir is not None:\n",
    "        plt.savefig(f\"{save_dir}.svg\")\n",
    "\n",
    "def plot_naive_seqs(seqs, plot_kwargs={'c': ['#DE1334', '#6752FF']}, save_dir=None):\n",
    "    plt.figure(figsize=(12, 3))\n",
    "\n",
    "    # for i, game in enumerate(games):\n",
    "    for j, target_seq in enumerate(seqs):\n",
    "        if plot_kwargs.get('c', None) is None:\n",
    "            c = brewer2mpl.get_map('Set1', 'qualitative', 9).mpl_colors[j]\n",
    "        else:\n",
    "            c = plot_kwargs['c'][j]\n",
    "        if plot_kwargs.get('labels', None) is None:\n",
    "            label = j\n",
    "        else:\n",
    "            label = plot_kwargs['labels'][j]\n",
    "        plt.plot(target_seq[:], c=c, label=label)\n",
    "\n",
    "        plt.xticks([])\n",
    "        plt.yticks([])\n",
    "\n",
    "    if save_dir is not None:\n",
    "        plt.savefig(f\"{save_dir}.svg\")\n",
    "\n",
    "\n",
    "def crop_image(img, save_path, num=9):\n",
    "    im = Image.open(img)\n",
    "    width, height = round(im.size[0] / num), im.size[1]\n",
    "    for j in range(num):\n",
    "        box = (j * width, 0, min((j + 1) * width, im.size[0]), height)\n",
    "        im.crop(box).save(save_path + f'patch_{j}.svg')\n"
   ],
   "metadata": {
    "collapsed": false,
    "pycharm": {
     "name": "#%%\n"
    }
   }
  },
  {
   "cell_type": "code",
   "execution_count": null,
   "outputs": [],
   "source": [
    "game = 'DonkeyKong'\n",
    "df = pd.read_csv(os.path.join(root_dir, f'{game}/HR/window_896_1024/csv/fold_seed_42/train_ds_3.0_unique_True.csv'))"
   ],
   "metadata": {
    "collapsed": false,
    "pycharm": {
     "name": "#%%\n"
    }
   }
  },
  {
   "cell_type": "code",
   "execution_count": null,
   "outputs": [],
   "source": [
    "positive = df[df['label'] == 1].reset_index(drop=True)\n",
    "negative = df[df['label'] == 0].reset_index(drop=True)"
   ],
   "metadata": {
    "collapsed": false,
    "pycharm": {
     "name": "#%%\n"
    }
   }
  },
  {
   "cell_type": "code",
   "execution_count": null,
   "outputs": [],
   "source": [
    "positive = positive.reset_index(drop=True)\n",
    "positive"
   ],
   "metadata": {
    "collapsed": false,
    "pycharm": {
     "name": "#%%\n"
    }
   }
  },
  {
   "cell_type": "markdown",
   "source": [
    "### Causal Pairs Demo"
   ],
   "metadata": {
    "collapsed": false,
    "pycharm": {
     "name": "#%% md\n"
    }
   }
  },
  {
   "cell_type": "code",
   "execution_count": null,
   "outputs": [],
   "source": [
    "# positive pair (107, 1018)\n",
    "row = positive.loc[36]\n",
    "cause_idx = row['transistor_1']\n",
    "effect_idx = row['transistor_2']\n",
    "print(cause_idx, effect_idx)\n",
    "meta_data = np.load(row['file_path'])\n",
    "plot_pair(meta_data, [cause_idx, effect_idx], causal=True, zoom=False, save_dir='./figure/Figure 1. Causal Pair Demo/transistor_pair_107&1018')"
   ],
   "metadata": {
    "collapsed": false,
    "pycharm": {
     "name": "#%%\n"
    }
   }
  },
  {
   "cell_type": "code",
   "execution_count": null,
   "outputs": [],
   "source": [
    "# positive pair (2623, 16)\n",
    "row = positive.loc[176]\n",
    "cause_idx = row['transistor_1']\n",
    "effect_idx = row['transistor_2']\n",
    "print(cause_idx, effect_idx)\n",
    "meta_data = np.load(row['file_path'])\n",
    "plot_pair(meta_data, [cause_idx, effect_idx], causal=True, zoom=False, save_dir='./figure/Figure 1. Causal Pair Demo/transistor_pair_2623&165')"
   ],
   "metadata": {
    "collapsed": false,
    "pycharm": {
     "name": "#%%\n"
    }
   }
  },
  {
   "cell_type": "code",
   "execution_count": null,
   "outputs": [],
   "source": [
    "plot_pair(meta_data, [cause_idx, effect_idx], causal=True, zoom=True, save_dir='./figure/Figure 1. Causal Pair Demo/transistor_pair_2623&165_zoom')"
   ],
   "metadata": {
    "collapsed": false,
    "pycharm": {
     "name": "#%%\n"
    }
   }
  },
  {
   "cell_type": "code",
   "execution_count": null,
   "outputs": [],
   "source": [
    "# positive pair (2642, 1839)\n",
    "row = positive.loc[600]\n",
    "cause_idx = row['transistor_1']\n",
    "effect_idx = row['transistor_2']\n",
    "print(cause_idx, effect_idx)\n",
    "meta_data = np.load(row['file_path'])\n",
    "plot_pair(meta_data, [cause_idx, effect_idx], causal=True, zoom=False, save_dir='./figure/Figure 1. Causal Pair Demo/transistor_pair_2642&1839')"
   ],
   "metadata": {
    "collapsed": false,
    "pycharm": {
     "name": "#%%\n"
    }
   }
  },
  {
   "cell_type": "code",
   "execution_count": null,
   "outputs": [],
   "source": [
    "# negative pair (1976, 2609)\n",
    "row = negative.loc[0]\n",
    "cause_idx = row['transistor_1']\n",
    "effect_idx = row['transistor_2']\n",
    "meta_data = np.load(row['file_path'])\n",
    "print(cause_idx, effect_idx)\n",
    "plot_pair(meta_data, [cause_idx, effect_idx], causal=False, zoom=False,save_dir='./figure/Figure 1. Causal Pair Demo/transistor_pair_1976&2609')"
   ],
   "metadata": {
    "collapsed": false,
    "pycharm": {
     "name": "#%%\n"
    }
   }
  },
  {
   "cell_type": "code",
   "execution_count": null,
   "outputs": [],
   "source": [
    "plot_pair(meta_data, [cause_idx, effect_idx], causal=False, zoom=True, save_dir='./figure/Figure 1. Causal Pair Demo/transistor_pair_1976&2609_zoom')"
   ],
   "metadata": {
    "collapsed": false,
    "pycharm": {
     "name": "#%%\n"
    }
   }
  },
  {
   "cell_type": "code",
   "execution_count": null,
   "outputs": [],
   "source": [
    "# negative pair (5, 3057)\n",
    "row = negative.loc[1]\n",
    "cause_idx = row['transistor_1']\n",
    "effect_idx = row['transistor_2']\n",
    "meta_data = np.load(row['file_path'])\n",
    "print(cause_idx, effect_idx)\n",
    "plot_pair(meta_data, [cause_idx, effect_idx], causal=False, zoom=False,save_dir='./figure/Figure 1. Causal Pair Demo/transistor_pair_5&3057')"
   ],
   "metadata": {
    "collapsed": false,
    "pycharm": {
     "name": "#%%\n"
    }
   }
  },
  {
   "cell_type": "code",
   "execution_count": null,
   "outputs": [],
   "source": [
    "# negative pair (5, 3057)\n",
    "row = negative.loc[2]\n",
    "cause_idx = row['transistor_1']\n",
    "effect_idx = row['transistor_2']\n",
    "meta_data = np.load(row['file_path'])\n",
    "print(cause_idx, effect_idx)\n",
    "plot_pair(meta_data, [cause_idx, effect_idx], causal=False, zoom=False,save_dir='./figure/Figure 1. Causal Pair Demo/transistor_pair_363&217')"
   ],
   "metadata": {
    "collapsed": false,
    "pycharm": {
     "name": "#%%\n"
    }
   }
  }
 ],
 "metadata": {
  "kernelspec": {
   "name": "python3",
   "language": "python",
   "display_name": "Python 3 (ipykernel)"
  },
  "language_info": {
   "codemirror_mode": {
    "name": "ipython",
    "version": 2
   },
   "file_extension": ".py",
   "mimetype": "text/x-python",
   "name": "python",
   "nbconvert_exporter": "python",
   "pygments_lexer": "ipython2",
   "version": "2.7.6"
  }
 },
 "nbformat": 4,
 "nbformat_minor": 0
}